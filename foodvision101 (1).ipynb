{
 "cells": [
  {
   "cell_type": "markdown",
   "id": "60171246",
   "metadata": {
    "papermill": {
     "duration": 0.039486,
     "end_time": "2022-04-03T12:38:02.497656",
     "exception": false,
     "start_time": "2022-04-03T12:38:02.458170",
     "status": "completed"
    },
    "tags": []
   },
   "source": [
    "* Using TensorFlow Datasets to download and explore data\n",
    "* Creating preprocessing function for our data\n",
    "* Batching & preparing datasets for modelling (making our datasets run fast)\n",
    "* Creating modelling callbacks\n",
    "* Setting up mixed precision training\n",
    "* Building a feature extraction model \n",
    "* Fine-tuning the feature extraction model \n"
   ]
  },
  {
   "cell_type": "code",
   "execution_count": 1,
   "id": "2ce4feb7",
   "metadata": {
    "execution": {
     "iopub.execute_input": "2022-04-03T12:38:02.591567Z",
     "iopub.status.busy": "2022-04-03T12:38:02.588419Z",
     "iopub.status.idle": "2022-04-03T12:38:02.595554Z",
     "shell.execute_reply": "2022-04-03T12:38:02.594920Z",
     "shell.execute_reply.started": "2022-04-03T07:52:38.913959Z"
    },
    "papermill": {
     "duration": 0.05713,
     "end_time": "2022-04-03T12:38:02.595705",
     "exception": false,
     "start_time": "2022-04-03T12:38:02.538575",
     "status": "completed"
    },
    "tags": []
   },
   "outputs": [],
   "source": [
    "# Hide warning logs \n",
    "import os\n",
    "os.environ[\"TF_CPP_MIN_LOG_LEVEL\"] = \"3\""
   ]
  },
  {
   "cell_type": "code",
   "execution_count": 2,
   "id": "16a94073",
   "metadata": {
    "_cell_guid": "b1076dfc-b9ad-4769-8c92-a6c4dae69d19",
    "_uuid": "8f2839f25d086af736a60e9eeb907d3b93b6e0e5",
    "execution": {
     "iopub.execute_input": "2022-04-03T12:38:02.680267Z",
     "iopub.status.busy": "2022-04-03T12:38:02.679665Z",
     "iopub.status.idle": "2022-04-03T12:38:08.156296Z",
     "shell.execute_reply": "2022-04-03T12:38:08.156817Z",
     "shell.execute_reply.started": "2022-04-03T07:53:23.875496Z"
    },
    "papermill": {
     "duration": 5.520416,
     "end_time": "2022-04-03T12:38:08.156980",
     "exception": false,
     "start_time": "2022-04-03T12:38:02.636564",
     "status": "completed"
    },
    "tags": []
   },
   "outputs": [],
   "source": [
    "import tensorflow as tf\n",
    "import tensorflow_datasets as tfds"
   ]
  },
  {
   "cell_type": "code",
   "execution_count": 3,
   "id": "292fe962",
   "metadata": {
    "execution": {
     "iopub.execute_input": "2022-04-03T12:38:08.231296Z",
     "iopub.status.busy": "2022-04-03T12:38:08.230667Z",
     "iopub.status.idle": "2022-04-03T12:45:58.748288Z",
     "shell.execute_reply": "2022-04-03T12:45:58.748752Z",
     "shell.execute_reply.started": "2022-04-03T07:53:33.154833Z"
    },
    "papermill": {
     "duration": 470.556458,
     "end_time": "2022-04-03T12:45:58.748955",
     "exception": false,
     "start_time": "2022-04-03T12:38:08.192497",
     "status": "completed"
    },
    "tags": []
   },
   "outputs": [
    {
     "name": "stdout",
     "output_type": "stream",
     "text": [
      "\u001b[1mDownloading and preparing dataset 4.65 GiB (download: 4.65 GiB, generated: Unknown size, total: 4.65 GiB) to /root/tensorflow_datasets/food101/2.0.0...\u001b[0m\n"
     ]
    },
    {
     "data": {
      "application/vnd.jupyter.widget-view+json": {
       "model_id": "c61c577ff98a44999143412238914243",
       "version_major": 2,
       "version_minor": 0
      },
      "text/plain": [
       "Dl Completed...: 0 url [00:00, ? url/s]"
      ]
     },
     "metadata": {},
     "output_type": "display_data"
    },
    {
     "data": {
      "application/vnd.jupyter.widget-view+json": {
       "model_id": "ccf48443235e4975840a8d3f3d84d5fd",
       "version_major": 2,
       "version_minor": 0
      },
      "text/plain": [
       "Dl Size...: 0 MiB [00:00, ? MiB/s]"
      ]
     },
     "metadata": {},
     "output_type": "display_data"
    },
    {
     "data": {
      "application/vnd.jupyter.widget-view+json": {
       "model_id": "dd7147ae0c334db8b14380283e58b378",
       "version_major": 2,
       "version_minor": 0
      },
      "text/plain": [
       "Extraction completed...: 0 file [00:00, ? file/s]"
      ]
     },
     "metadata": {},
     "output_type": "display_data"
    },
    {
     "data": {
      "application/vnd.jupyter.widget-view+json": {
       "model_id": "8ad96103194f4cf5954883f52eb84ed0",
       "version_major": 2,
       "version_minor": 0
      },
      "text/plain": [
       "Generating splits...:   0%|          | 0/2 [00:00<?, ? splits/s]"
      ]
     },
     "metadata": {},
     "output_type": "display_data"
    },
    {
     "data": {
      "application/vnd.jupyter.widget-view+json": {
       "model_id": "ca6ce3fb0c534caa839695ad78e2c4c6",
       "version_major": 2,
       "version_minor": 0
      },
      "text/plain": [
       "Generating train examples...:   0%|          | 0/75750 [00:00<?, ? examples/s]"
      ]
     },
     "metadata": {},
     "output_type": "display_data"
    },
    {
     "data": {
      "application/vnd.jupyter.widget-view+json": {
       "model_id": "d82b7442ffa04c098fe67d732f9c2291",
       "version_major": 2,
       "version_minor": 0
      },
      "text/plain": [
       "Shuffling food101-train.tfrecord...:   0%|          | 0/75750 [00:00<?, ? examples/s]"
      ]
     },
     "metadata": {},
     "output_type": "display_data"
    },
    {
     "data": {
      "application/vnd.jupyter.widget-view+json": {
       "model_id": "c2b1bf3fb1af4051add44bc14733a216",
       "version_major": 2,
       "version_minor": 0
      },
      "text/plain": [
       "Generating validation examples...:   0%|          | 0/25250 [00:00<?, ? examples/s]"
      ]
     },
     "metadata": {},
     "output_type": "display_data"
    },
    {
     "data": {
      "application/vnd.jupyter.widget-view+json": {
       "model_id": "20a5282537f34649ae602ac4866794f3",
       "version_major": 2,
       "version_minor": 0
      },
      "text/plain": [
       "Shuffling food101-validation.tfrecord...:   0%|          | 0/25250 [00:00<?, ? examples/s]"
      ]
     },
     "metadata": {},
     "output_type": "display_data"
    },
    {
     "name": "stdout",
     "output_type": "stream",
     "text": [
      "\u001b[1mDataset food101 downloaded and prepared to /root/tensorflow_datasets/food101/2.0.0. Subsequent calls will reuse this data.\u001b[0m\n"
     ]
    }
   ],
   "source": [
    "(train_data,test_data),ds_info = tfds.load(name=\"food101\",\n",
    "                                          split=['train','validation'],\n",
    "                                          shuffle_files=True,\n",
    "                                          as_supervised=True, # download data in tuple format (sample, label), e.g. (image, label)\n",
    "                                          with_info=True) # returns tuple (data, ds_info)"
   ]
  },
  {
   "cell_type": "code",
   "execution_count": 4,
   "id": "07823fca",
   "metadata": {
    "execution": {
     "iopub.execute_input": "2022-04-03T12:45:58.845538Z",
     "iopub.status.busy": "2022-04-03T12:45:58.843432Z",
     "iopub.status.idle": "2022-04-03T12:45:58.848199Z",
     "shell.execute_reply": "2022-04-03T12:45:58.847560Z",
     "shell.execute_reply.started": "2022-04-03T07:58:06.885441Z"
    },
    "papermill": {
     "duration": 0.055776,
     "end_time": "2022-04-03T12:45:58.848331",
     "exception": false,
     "start_time": "2022-04-03T12:45:58.792555",
     "status": "completed"
    },
    "tags": []
   },
   "outputs": [
    {
     "data": {
      "text/plain": [
       "FeaturesDict({\n",
       "    'image': Image(shape=(None, None, 3), dtype=tf.uint8),\n",
       "    'label': ClassLabel(shape=(), dtype=tf.int64, num_classes=101),\n",
       "})"
      ]
     },
     "execution_count": 4,
     "metadata": {},
     "output_type": "execute_result"
    }
   ],
   "source": [
    "# Features of Food101 TFDS\n",
    "ds_info.features"
   ]
  },
  {
   "cell_type": "code",
   "execution_count": 5,
   "id": "8af6d111",
   "metadata": {
    "execution": {
     "iopub.execute_input": "2022-04-03T12:45:58.949958Z",
     "iopub.status.busy": "2022-04-03T12:45:58.948669Z",
     "iopub.status.idle": "2022-04-03T12:45:58.952417Z",
     "shell.execute_reply": "2022-04-03T12:45:58.952986Z",
     "shell.execute_reply.started": "2022-04-03T07:58:07.181657Z"
    },
    "papermill": {
     "duration": 0.057447,
     "end_time": "2022-04-03T12:45:58.953167",
     "exception": false,
     "start_time": "2022-04-03T12:45:58.895720",
     "status": "completed"
    },
    "tags": []
   },
   "outputs": [
    {
     "data": {
      "text/plain": [
       "['apple_pie',\n",
       " 'baby_back_ribs',\n",
       " 'baklava',\n",
       " 'beef_carpaccio',\n",
       " 'beef_tartare',\n",
       " 'beet_salad',\n",
       " 'beignets',\n",
       " 'bibimbap',\n",
       " 'bread_pudding',\n",
       " 'breakfast_burrito']"
      ]
     },
     "execution_count": 5,
     "metadata": {},
     "output_type": "execute_result"
    }
   ],
   "source": [
    "# Get class names\n",
    "class_names = ds_info.features['label'].names\n",
    "class_names[:10]"
   ]
  },
  {
   "cell_type": "markdown",
   "id": "a846179d",
   "metadata": {
    "papermill": {
     "duration": 0.045702,
     "end_time": "2022-04-03T12:45:59.045725",
     "exception": false,
     "start_time": "2022-04-03T12:45:59.000023",
     "status": "completed"
    },
    "tags": []
   },
   "source": [
    "## Exploring the Food101 data from TensorFlow Datasets"
   ]
  },
  {
   "cell_type": "code",
   "execution_count": 6,
   "id": "8141526a",
   "metadata": {
    "execution": {
     "iopub.execute_input": "2022-04-03T12:45:59.140994Z",
     "iopub.status.busy": "2022-04-03T12:45:59.140193Z",
     "iopub.status.idle": "2022-04-03T12:45:59.143780Z",
     "shell.execute_reply": "2022-04-03T12:45:59.143261Z",
     "shell.execute_reply.started": "2022-04-03T07:58:08.288004Z"
    },
    "papermill": {
     "duration": 0.05303,
     "end_time": "2022-04-03T12:45:59.143927",
     "exception": false,
     "start_time": "2022-04-03T12:45:59.090897",
     "status": "completed"
    },
    "tags": []
   },
   "outputs": [],
   "source": [
    "# Take one sample off the training data\n",
    "train_one_sample = train_data.take(1)"
   ]
  },
  {
   "cell_type": "code",
   "execution_count": 7,
   "id": "a2cfa756",
   "metadata": {
    "execution": {
     "iopub.execute_input": "2022-04-03T12:45:59.238738Z",
     "iopub.status.busy": "2022-04-03T12:45:59.238100Z",
     "iopub.status.idle": "2022-04-03T12:45:59.243284Z",
     "shell.execute_reply": "2022-04-03T12:45:59.243761Z",
     "shell.execute_reply.started": "2022-04-03T07:58:08.586716Z"
    },
    "papermill": {
     "duration": 0.055027,
     "end_time": "2022-04-03T12:45:59.243913",
     "exception": false,
     "start_time": "2022-04-03T12:45:59.188886",
     "status": "completed"
    },
    "tags": []
   },
   "outputs": [
    {
     "data": {
      "text/plain": [
       "<TakeDataset shapes: ((None, None, 3), ()), types: (tf.uint8, tf.int64)>"
      ]
     },
     "execution_count": 7,
     "metadata": {},
     "output_type": "execute_result"
    }
   ],
   "source": [
    "train_one_sample"
   ]
  },
  {
   "cell_type": "code",
   "execution_count": 8,
   "id": "76352885",
   "metadata": {
    "execution": {
     "iopub.execute_input": "2022-04-03T12:45:59.336725Z",
     "iopub.status.busy": "2022-04-03T12:45:59.336082Z",
     "iopub.status.idle": "2022-04-03T12:45:59.851136Z",
     "shell.execute_reply": "2022-04-03T12:45:59.850546Z",
     "shell.execute_reply.started": "2022-04-03T07:58:08.953605Z"
    },
    "papermill": {
     "duration": 0.563733,
     "end_time": "2022-04-03T12:45:59.851277",
     "exception": false,
     "start_time": "2022-04-03T12:45:59.287544",
     "status": "completed"
    },
    "tags": []
   },
   "outputs": [
    {
     "name": "stdout",
     "output_type": "stream",
     "text": [
      "\n",
      "          Image Shape: (512, 512, 3)\n",
      "          Image dtypes: <dtype: 'uint8'>\n",
      "          Target class from Food101 (tensor form): 50\n",
      "          class name (str form): grilled_salmon\n",
      "          \n"
     ]
    }
   ],
   "source": [
    "# Output info about our training sample\n",
    "for image,label in train_one_sample:\n",
    "    print(f\"\"\"\n",
    "          Image Shape: {image.shape}\n",
    "          Image dtypes: {image.dtype}\n",
    "          Target class from Food101 (tensor form): {label}\n",
    "          class name (str form): {class_names[label.numpy()]}\n",
    "          \"\"\")"
   ]
  },
  {
   "cell_type": "code",
   "execution_count": 9,
   "id": "44124ad2",
   "metadata": {
    "execution": {
     "iopub.execute_input": "2022-04-03T12:45:59.949059Z",
     "iopub.status.busy": "2022-04-03T12:45:59.948416Z",
     "iopub.status.idle": "2022-04-03T12:45:59.953388Z",
     "shell.execute_reply": "2022-04-03T12:45:59.954307Z",
     "shell.execute_reply.started": "2022-04-03T07:58:09.719386Z"
    },
    "papermill": {
     "duration": 0.058889,
     "end_time": "2022-04-03T12:45:59.954500",
     "exception": false,
     "start_time": "2022-04-03T12:45:59.895611",
     "status": "completed"
    },
    "tags": []
   },
   "outputs": [
    {
     "data": {
      "text/plain": [
       "<tf.Tensor: shape=(512, 512, 3), dtype=uint8, numpy=\n",
       "array([[[ 63,  62,  58],\n",
       "        [ 59,  58,  54],\n",
       "        [ 53,  52,  50],\n",
       "        ...,\n",
       "        [ 30,  32,  21],\n",
       "        [ 33,  36,  25],\n",
       "        [ 37,  40,  29]],\n",
       "\n",
       "       [[ 54,  53,  49],\n",
       "        [ 50,  49,  45],\n",
       "        [ 46,  45,  43],\n",
       "        ...,\n",
       "        [ 28,  30,  19],\n",
       "        [ 31,  34,  23],\n",
       "        [ 35,  38,  27]],\n",
       "\n",
       "       [[ 53,  52,  48],\n",
       "        [ 50,  49,  45],\n",
       "        [ 47,  46,  44],\n",
       "        ...,\n",
       "        [ 24,  26,  15],\n",
       "        [ 26,  28,  17],\n",
       "        [ 30,  32,  21]],\n",
       "\n",
       "       ...,\n",
       "\n",
       "       [[ 18,  18,   8],\n",
       "        [ 14,  14,   4],\n",
       "        [ 12,  12,   2],\n",
       "        ...,\n",
       "        [165, 185, 174],\n",
       "        [165, 185, 174],\n",
       "        [164, 184, 173]],\n",
       "\n",
       "       [[ 15,  15,   5],\n",
       "        [ 12,  12,   2],\n",
       "        [ 12,  12,   2],\n",
       "        ...,\n",
       "        [161, 181, 170],\n",
       "        [162, 182, 171],\n",
       "        [164, 184, 172]],\n",
       "\n",
       "       [[ 11,  11,   1],\n",
       "        [  9,   9,   0],\n",
       "        [ 11,  11,   1],\n",
       "        ...,\n",
       "        [158, 178, 167],\n",
       "        [160, 180, 168],\n",
       "        [163, 183, 171]]], dtype=uint8)>"
      ]
     },
     "execution_count": 9,
     "metadata": {},
     "output_type": "execute_result"
    }
   ],
   "source": [
    "# What does an image tensor from TFDS's Food101 look like?\n",
    "image"
   ]
  },
  {
   "cell_type": "code",
   "execution_count": 10,
   "id": "3ebb13e9",
   "metadata": {
    "execution": {
     "iopub.execute_input": "2022-04-03T12:46:00.055758Z",
     "iopub.status.busy": "2022-04-03T12:46:00.050203Z",
     "iopub.status.idle": "2022-04-03T12:46:00.311767Z",
     "shell.execute_reply": "2022-04-03T12:46:00.312172Z",
     "shell.execute_reply.started": "2022-04-03T07:58:10.228623Z"
    },
    "papermill": {
     "duration": 0.312545,
     "end_time": "2022-04-03T12:46:00.312314",
     "exception": false,
     "start_time": "2022-04-03T12:45:59.999769",
     "status": "completed"
    },
    "tags": []
   },
   "outputs": [
    {
     "data": {
      "image/png": "[encoded data removed]",
      "text/plain": [
       "<Figure size 432x288 with 1 Axes>"
      ]
     },
     "metadata": {
      "needs_background": "light"
     },
     "output_type": "display_data"
    }
   ],
   "source": [
    "# Plot an image from TensorFlow Datasets\n",
    "import matplotlib.pyplot as plt \n",
    "plt.imshow(image)\n",
    "plt.title(class_names[label.numpy()])\n",
    "plt.axis(False);"
   ]
  },
  {
   "cell_type": "markdown",
   "id": "86f933c4",
   "metadata": {
    "papermill": {
     "duration": 0.042963,
     "end_time": "2022-04-03T12:46:00.403186",
     "exception": false,
     "start_time": "2022-04-03T12:46:00.360223",
     "status": "completed"
    },
    "tags": []
   },
   "source": [
    "## Preprocessing images"
   ]
  },
  {
   "cell_type": "code",
   "execution_count": 11,
   "id": "afa9d173",
   "metadata": {
    "execution": {
     "iopub.execute_input": "2022-04-03T12:46:00.494167Z",
     "iopub.status.busy": "2022-04-03T12:46:00.493358Z",
     "iopub.status.idle": "2022-04-03T12:46:00.495426Z",
     "shell.execute_reply": "2022-04-03T12:46:00.495819Z",
     "shell.execute_reply.started": "2022-04-03T07:58:14.961339Z"
    },
    "papermill": {
     "duration": 0.049837,
     "end_time": "2022-04-03T12:46:00.495951",
     "exception": false,
     "start_time": "2022-04-03T12:46:00.446114",
     "status": "completed"
    },
    "tags": []
   },
   "outputs": [],
   "source": [
    "# Make a function for preprocessing images\n",
    "def preprocess_img(image,label,img_shape=224):\n",
    "    \"\"\"\n",
    "  Converts image datatype from 'uint8' -> 'float32' and reshapes image to\n",
    "  [img_shape, img_shape, color_channels]\n",
    "  \"\"\"\n",
    "    image = tf.image.resize(image,[img_shape,img_shape]) # reshape to img_shape\n",
    "    return tf.cast(image,tf.float32),label  # return (float32_image, label) tuple"
   ]
  },
  {
   "cell_type": "code",
   "execution_count": 12,
   "id": "7771da15",
   "metadata": {
    "execution": {
     "iopub.execute_input": "2022-04-03T12:46:00.589102Z",
     "iopub.status.busy": "2022-04-03T12:46:00.588287Z",
     "iopub.status.idle": "2022-04-03T12:46:00.655139Z",
     "shell.execute_reply": "2022-04-03T12:46:00.654657Z",
     "shell.execute_reply.started": "2022-04-03T07:58:15.013873Z"
    },
    "papermill": {
     "duration": 0.116838,
     "end_time": "2022-04-03T12:46:00.655257",
     "exception": false,
     "start_time": "2022-04-03T12:46:00.538419",
     "status": "completed"
    },
    "tags": []
   },
   "outputs": [],
   "source": [
    "# Map preprocessing function to training data (and paralellize)\n",
    "train_data = train_data.map(map_func = preprocess_img,num_parallel_calls=tf.data.AUTOTUNE)\n",
    "# Shuffle train_data and turn it into batches and prefetch it (load it faster)\n",
    "train_data = train_data.shuffle(buffer_size=1000).batch(batch_size=32).prefetch(buffer_size=tf.data.AUTOTUNE)\n",
    "\n",
    "# Map prepreprocessing function to test data\n",
    "test_data = test_data.map(map_func = preprocess_img,num_parallel_calls=tf.data.AUTOTUNE)\n",
    "# Turn test data into batches (don't need to shuffle)\n",
    "test_data = test_data.batch(batch_size=32).prefetch(buffer_size=tf.data.AUTOTUNE)"
   ]
  },
  {
   "cell_type": "code",
   "execution_count": 13,
   "id": "68218adf",
   "metadata": {
    "execution": {
     "iopub.execute_input": "2022-04-03T12:46:00.748144Z",
     "iopub.status.busy": "2022-04-03T12:46:00.747219Z",
     "iopub.status.idle": "2022-04-03T12:46:00.751753Z",
     "shell.execute_reply": "2022-04-03T12:46:00.752403Z",
     "shell.execute_reply.started": "2022-04-03T07:58:17.914066Z"
    },
    "papermill": {
     "duration": 0.053385,
     "end_time": "2022-04-03T12:46:00.752646",
     "exception": false,
     "start_time": "2022-04-03T12:46:00.699261",
     "status": "completed"
    },
    "tags": []
   },
   "outputs": [
    {
     "data": {
      "text/plain": [
       "(<PrefetchDataset shapes: ((None, 224, 224, 3), (None,)), types: (tf.float32, tf.int64)>,\n",
       " <PrefetchDataset shapes: ((None, 224, 224, 3), (None,)), types: (tf.float32, tf.int64)>)"
      ]
     },
     "execution_count": 13,
     "metadata": {},
     "output_type": "execute_result"
    }
   ],
   "source": [
    "train_data,test_data"
   ]
  },
  {
   "cell_type": "markdown",
   "id": "3254aea4",
   "metadata": {
    "papermill": {
     "duration": 0.049076,
     "end_time": "2022-04-03T12:46:00.852061",
     "exception": false,
     "start_time": "2022-04-03T12:46:00.802985",
     "status": "completed"
    },
    "tags": []
   },
   "source": [
    "## Create modelling callbacks"
   ]
  },
  {
   "cell_type": "code",
   "execution_count": 14,
   "id": "9947f1c7",
   "metadata": {
    "execution": {
     "iopub.execute_input": "2022-04-03T12:46:00.968663Z",
     "iopub.status.busy": "2022-04-03T12:46:00.967596Z",
     "iopub.status.idle": "2022-04-03T12:46:00.969648Z",
     "shell.execute_reply": "2022-04-03T12:46:00.970118Z",
     "shell.execute_reply.started": "2022-04-03T07:58:21.850718Z"
    },
    "papermill": {
     "duration": 0.062204,
     "end_time": "2022-04-03T12:46:00.970285",
     "exception": false,
     "start_time": "2022-04-03T12:46:00.908081",
     "status": "completed"
    },
    "tags": []
   },
   "outputs": [],
   "source": [
    "# Create tensorboard callback\n",
    "import datetime\n",
    "\n",
    "def create_tensorboard_callback(dir_name,experiment_name):\n",
    "    log_dir = dir_name + \"/\" + experiment_name + \"/\" + datetime.datetime.now().strftime(\"%Y%m%d-%H%M%S\")\n",
    "    tensorboard_callback = tf.keras.callbacks.TensorBoard(\n",
    "    log_dir = log_dir\n",
    "    )\n",
    "    print(f\"Saving TensorBoard logfiles to: {log_dir}\")\n",
    "    return tensorboard_callback"
   ]
  },
  {
   "cell_type": "code",
   "execution_count": 15,
   "id": "3a1d0eba",
   "metadata": {
    "execution": {
     "iopub.execute_input": "2022-04-03T12:46:01.116930Z",
     "iopub.status.busy": "2022-04-03T12:46:01.116229Z",
     "iopub.status.idle": "2022-04-03T12:46:04.234775Z",
     "shell.execute_reply": "2022-04-03T12:46:04.234132Z",
     "shell.execute_reply.started": "2022-04-03T07:58:23.733698Z"
    },
    "papermill": {
     "duration": 3.208356,
     "end_time": "2022-04-03T12:46:04.234927",
     "exception": false,
     "start_time": "2022-04-03T12:46:01.026571",
     "status": "completed"
    },
    "tags": []
   },
   "outputs": [],
   "source": [
    "# Create ModelCheckpoint callback to save model's progress\n",
    "checkpoint_path = \"model_checkpoints/cp.ckpt\"  # saving weights requires \".ckpt\" extension\n",
    "model_checkpoint = tf.keras.callbacks.ModelCheckpoint(checkpoint_path,\n",
    "                                                     monitor = 'val_accuracy',\n",
    "                                                     save_best_only=True,\n",
    "                                                     save_weights_only=True, # only save model weights (not whole model)\n",
    "                                                     verbose=1)"
   ]
  },
  {
   "cell_type": "markdown",
   "id": "520a99f2",
   "metadata": {
    "papermill": {
     "duration": 0.045974,
     "end_time": "2022-04-03T12:46:04.324958",
     "exception": false,
     "start_time": "2022-04-03T12:46:04.278984",
     "status": "completed"
    },
    "tags": []
   },
   "source": [
    "## Setup mixed precision training\n",
    "Mixed precision training involves using a mix of float16 and float32 tensors to make better use of your GPU's memory."
   ]
  },
  {
   "cell_type": "code",
   "execution_count": 16,
   "id": "85a28089",
   "metadata": {
    "execution": {
     "iopub.execute_input": "2022-04-03T12:46:04.417026Z",
     "iopub.status.busy": "2022-04-03T12:46:04.416409Z",
     "iopub.status.idle": "2022-04-03T12:46:04.420863Z",
     "shell.execute_reply": "2022-04-03T12:46:04.420429Z",
     "shell.execute_reply.started": "2022-04-03T07:58:27.954031Z"
    },
    "papermill": {
     "duration": 0.052604,
     "end_time": "2022-04-03T12:46:04.420999",
     "exception": false,
     "start_time": "2022-04-03T12:46:04.368395",
     "status": "completed"
    },
    "tags": []
   },
   "outputs": [],
   "source": [
    "# Turn on mixed precision training\n",
    "from tensorflow.keras import mixed_precision\n",
    "mixed_precision.set_global_policy(policy=\"mixed_float16\") # set global policy to mixed precision "
   ]
  },
  {
   "cell_type": "code",
   "execution_count": 17,
   "id": "8cf53442",
   "metadata": {
    "execution": {
     "iopub.execute_input": "2022-04-03T12:46:04.511874Z",
     "iopub.status.busy": "2022-04-03T12:46:04.511270Z",
     "iopub.status.idle": "2022-04-03T12:46:04.513898Z",
     "shell.execute_reply": "2022-04-03T12:46:04.514297Z",
     "shell.execute_reply.started": "2022-04-03T07:58:31.616892Z"
    },
    "papermill": {
     "duration": 0.050152,
     "end_time": "2022-04-03T12:46:04.514421",
     "exception": false,
     "start_time": "2022-04-03T12:46:04.464269",
     "status": "completed"
    },
    "tags": []
   },
   "outputs": [
    {
     "data": {
      "text/plain": [
       "<Policy \"mixed_float16\">"
      ]
     },
     "execution_count": 17,
     "metadata": {},
     "output_type": "execute_result"
    }
   ],
   "source": [
    "mixed_precision.global_policy()"
   ]
  },
  {
   "cell_type": "markdown",
   "id": "d93bf752",
   "metadata": {
    "papermill": {
     "duration": 0.043758,
     "end_time": "2022-04-03T12:46:04.601616",
     "exception": false,
     "start_time": "2022-04-03T12:46:04.557858",
     "status": "completed"
    },
    "tags": []
   },
   "source": [
    "Since the global dtype policy is now \"mixed_float16\" ,the  model will automatically take advantage of float16 variables where possible and in turn speed up training.\n",
    "\n",
    "## Build feature extraction model"
   ]
  },
  {
   "cell_type": "code",
   "execution_count": 18,
   "id": "b978985d",
   "metadata": {
    "execution": {
     "iopub.execute_input": "2022-04-03T12:46:04.696905Z",
     "iopub.status.busy": "2022-04-03T12:46:04.695467Z",
     "iopub.status.idle": "2022-04-03T12:46:09.416006Z",
     "shell.execute_reply": "2022-04-03T12:46:09.415509Z",
     "shell.execute_reply.started": "2022-04-03T07:58:36.804922Z"
    },
    "papermill": {
     "duration": 4.771333,
     "end_time": "2022-04-03T12:46:09.416142",
     "exception": false,
     "start_time": "2022-04-03T12:46:04.644809",
     "status": "completed"
    },
    "tags": []
   },
   "outputs": [
    {
     "name": "stdout",
     "output_type": "stream",
     "text": [
      "Downloading data from https://storage.googleapis.com/keras-applications/efficientnetb0_notop.h5\n",
      "16711680/16705208 [==============================] - 0s 0us/step\n",
      "16719872/16705208 [==============================] - 0s 0us/step\n"
     ]
    }
   ],
   "source": [
    "from tensorflow.keras import layers\n",
    "from tensorflow.keras.layers.experimental import preprocessing\n",
    "\n",
    "# Create base model\n",
    "input_shape=(224,224,3)\n",
    "base_model = tf.keras.applications.EfficientNetB0(include_top=False)\n",
    "base_model.trainable = False\n",
    "\n",
    "# Create Functional model \n",
    "inputs = layers.Input(shape=input_shape,name='Input_layer',dtype=tf.float16)\n",
    "#x=preprocessing.Rescaling(1./255)(x)\n",
    "x=base_model(inputs)\n",
    "x=layers.GlobalAveragePooling2D(name=\"global_average_pooling_layer\")(x)\n",
    "x=layers.Dense(len(class_names))(x)\n",
    "# Separate activation of output layer so we can output float32 activations\n",
    "outputs = layers.Activation(activation=\"softmax\",dtype=tf.float32,name=\"output_layer\")(x)\n",
    "model=tf.keras.Model(inputs,outputs)\n",
    "\n",
    "# Compile the model\n",
    "model.compile(loss=\"sparse_categorical_crossentropy\",\n",
    "             optimizer=tf.keras.optimizers.Adam(),\n",
    "             metrics=['accuracy'])"
   ]
  },
  {
   "cell_type": "code",
   "execution_count": 19,
   "id": "c618207a",
   "metadata": {
    "execution": {
     "iopub.execute_input": "2022-04-03T12:46:09.525599Z",
     "iopub.status.busy": "2022-04-03T12:46:09.524748Z",
     "iopub.status.idle": "2022-04-03T12:46:09.531006Z",
     "shell.execute_reply": "2022-04-03T12:46:09.530409Z",
     "shell.execute_reply.started": "2022-04-03T07:58:42.002875Z"
    },
    "papermill": {
     "duration": 0.069521,
     "end_time": "2022-04-03T12:46:09.531160",
     "exception": false,
     "start_time": "2022-04-03T12:46:09.461639",
     "status": "completed"
    },
    "tags": []
   },
   "outputs": [
    {
     "name": "stdout",
     "output_type": "stream",
     "text": [
      "Model: \"model\"\n",
      "_________________________________________________________________\n",
      "Layer (type)                 Output Shape              Param #   \n",
      "=================================================================\n",
      "Input_layer (InputLayer)     [(None, 224, 224, 3)]     0         \n",
      "_________________________________________________________________\n",
      "efficientnetb0 (Functional)  (None, None, None, 1280)  4049571   \n",
      "_________________________________________________________________\n",
      "global_average_pooling_layer (None, 1280)              0         \n",
      "_________________________________________________________________\n",
      "dense (Dense)                (None, 101)               129381    \n",
      "_________________________________________________________________\n",
      "output_layer (Activation)    (None, 101)               0         \n",
      "=================================================================\n",
      "Total params: 4,178,952\n",
      "Trainable params: 129,381\n",
      "Non-trainable params: 4,049,571\n",
      "_________________________________________________________________\n"
     ]
    }
   ],
   "source": [
    "model.summary()"
   ]
  },
  {
   "cell_type": "markdown",
   "id": "df9bf222",
   "metadata": {
    "papermill": {
     "duration": 0.046083,
     "end_time": "2022-04-03T12:46:09.623664",
     "exception": false,
     "start_time": "2022-04-03T12:46:09.577581",
     "status": "completed"
    },
    "tags": []
   },
   "source": [
    "## Checking layer dtype policies"
   ]
  },
  {
   "cell_type": "code",
   "execution_count": 20,
   "id": "ed735bb2",
   "metadata": {
    "execution": {
     "iopub.execute_input": "2022-04-03T12:46:09.721370Z",
     "iopub.status.busy": "2022-04-03T12:46:09.719986Z",
     "iopub.status.idle": "2022-04-03T12:46:09.725364Z",
     "shell.execute_reply": "2022-04-03T12:46:09.725993Z",
     "shell.execute_reply.started": "2022-04-03T07:58:45.041174Z"
    },
    "papermill": {
     "duration": 0.056847,
     "end_time": "2022-04-03T12:46:09.726169",
     "exception": false,
     "start_time": "2022-04-03T12:46:09.669322",
     "status": "completed"
    },
    "tags": []
   },
   "outputs": [
    {
     "name": "stdout",
     "output_type": "stream",
     "text": [
      "Input_layer True float16 <Policy \"float16\">\n",
      "efficientnetb0 False float32 <Policy \"mixed_float16\">\n",
      "global_average_pooling_layer True float32 <Policy \"mixed_float16\">\n",
      "dense True float32 <Policy \"mixed_float16\">\n",
      "output_layer True float32 <Policy \"float32\">\n"
     ]
    }
   ],
   "source": [
    "# Check the dtype_policy attributes of layers in our model\n",
    "for layer in model.layers:\n",
    "    print(layer.name,layer.trainable,layer.dtype,layer.dtype_policy) # Check the dtype policy of layers"
   ]
  },
  {
   "cell_type": "code",
   "execution_count": 21,
   "id": "11ec2f65",
   "metadata": {
    "execution": {
     "iopub.execute_input": "2022-04-03T12:46:09.822960Z",
     "iopub.status.busy": "2022-04-03T12:46:09.822152Z",
     "iopub.status.idle": "2022-04-03T13:02:11.313119Z",
     "shell.execute_reply": "2022-04-03T13:02:11.312474Z",
     "shell.execute_reply.started": "2022-04-03T07:58:46.169942Z"
    },
    "papermill": {
     "duration": 961.540835,
     "end_time": "2022-04-03T13:02:11.313295",
     "exception": false,
     "start_time": "2022-04-03T12:46:09.772460",
     "status": "completed"
    },
    "tags": []
   },
   "outputs": [
    {
     "name": "stdout",
     "output_type": "stream",
     "text": [
      "Saving TensorBoard logfiles to: training_logs/efficientnetb0_101_classes_all_data_feature_extract/20220403-124609\n",
      "Epoch 1/5\n"
     ]
    },
    {
     "name": "stderr",
     "output_type": "stream",
     "text": [
      "/opt/conda/lib/python3.7/site-packages/keras/utils/generic_utils.py:497: CustomMaskWarning: Custom mask layers require a config and must override get_config. When loading, the custom mask layer must be passed to the custom_objects argument.\n",
      "  category=CustomMaskWarning)\n"
     ]
    },
    {
     "name": "stdout",
     "output_type": "stream",
     "text": [
      "2368/2368 [==============================] - 181s 71ms/step - loss: 1.8847 - accuracy: 0.5430 - val_loss: 1.2455 - val_accuracy: 0.6679\n",
      "\n",
      "Epoch 00001: val_accuracy improved from -inf to 0.66790, saving model to model_checkpoints/cp.ckpt\n",
      "Epoch 2/5\n",
      "2368/2368 [==============================] - 165s 69ms/step - loss: 1.3669 - accuracy: 0.6469 - val_loss: 1.1396 - val_accuracy: 0.6923\n",
      "\n",
      "Epoch 00002: val_accuracy improved from 0.66790 to 0.69227, saving model to model_checkpoints/cp.ckpt\n",
      "Epoch 3/5\n",
      "2368/2368 [==============================] - 170s 71ms/step - loss: 1.2308 - accuracy: 0.6778 - val_loss: 1.0792 - val_accuracy: 0.7127\n",
      "\n",
      "Epoch 00003: val_accuracy improved from 0.69227 to 0.71266, saving model to model_checkpoints/cp.ckpt\n",
      "Epoch 4/5\n",
      "2368/2368 [==============================] - 174s 72ms/step - loss: 1.1387 - accuracy: 0.7001 - val_loss: 1.0653 - val_accuracy: 0.7116\n",
      "\n",
      "Epoch 00004: val_accuracy did not improve from 0.71266\n",
      "Epoch 5/5\n",
      "2368/2368 [==============================] - 174s 72ms/step - loss: 1.0736 - accuracy: 0.7168 - val_loss: 1.0619 - val_accuracy: 0.7052\n",
      "\n",
      "Epoch 00005: val_accuracy did not improve from 0.71266\n"
     ]
    }
   ],
   "source": [
    "# Fit the model with callbacks\n",
    "history_101_food_classes_feature_extract = model.fit(train_data,\n",
    "                                                    epochs=5,\n",
    "                                                    steps_per_epoch=len(train_data),\n",
    "                                                    validation_data=test_data,\n",
    "                                                    validation_steps=int(0.15*len(test_data)),\n",
    "                                                    callbacks=[create_tensorboard_callback(\"training_logs\",\"efficientnetb0_101_classes_all_data_feature_extract\"),\n",
    "                                                              model_checkpoint])"
   ]
  },
  {
   "cell_type": "code",
   "execution_count": 22,
   "id": "1fc07ba6",
   "metadata": {
    "execution": {
     "iopub.execute_input": "2022-04-03T13:02:18.980634Z",
     "iopub.status.busy": "2022-04-03T13:02:18.980023Z",
     "iopub.status.idle": "2022-04-03T13:03:44.972898Z",
     "shell.execute_reply": "2022-04-03T13:03:44.973352Z",
     "shell.execute_reply.started": "2022-04-03T08:13:54.783777Z"
    },
    "papermill": {
     "duration": 89.683507,
     "end_time": "2022-04-03T13:03:44.973519",
     "exception": false,
     "start_time": "2022-04-03T13:02:15.290012",
     "status": "completed"
    },
    "tags": []
   },
   "outputs": [
    {
     "name": "stdout",
     "output_type": "stream",
     "text": [
      "790/790 [==============================] - 48s 60ms/step - loss: 1.0654 - accuracy: 0.7105\n"
     ]
    },
    {
     "data": {
      "text/plain": [
       "[1.0654399394989014, 0.7104950547218323]"
      ]
     },
     "execution_count": 22,
     "metadata": {},
     "output_type": "execute_result"
    }
   ],
   "source": [
    "model.evaluate(test_data)"
   ]
  },
  {
   "cell_type": "code",
   "execution_count": 23,
   "id": "5c7d2044",
   "metadata": {
    "execution": {
     "iopub.execute_input": "2022-04-03T13:03:52.907662Z",
     "iopub.status.busy": "2022-04-03T13:03:52.905971Z",
     "iopub.status.idle": "2022-04-03T13:03:52.908228Z",
     "shell.execute_reply": "2022-04-03T13:03:52.908653Z",
     "shell.execute_reply.started": "2022-04-03T08:14:42.903058Z"
    },
    "papermill": {
     "duration": 4.08298,
     "end_time": "2022-04-03T13:03:52.908797",
     "exception": false,
     "start_time": "2022-04-03T13:03:48.825817",
     "status": "completed"
    },
    "tags": []
   },
   "outputs": [],
   "source": [
    "def plot_loss_curves(history):\n",
    "    \"\"\"\n",
    "  Returns separate loss curves for training and validation metrics.\n",
    "  \"\"\" \n",
    "    import matplotlib.pyplot as plt\n",
    "    \n",
    "    loss = history.history['loss']\n",
    "    val_loss = history.history['val_loss']\n",
    "    \n",
    "    accuracy = history.history['accuracy']\n",
    "    val_accuracy = history.history['val_accuracy']\n",
    "    \n",
    "    epochs = range(len(history.history['loss']))\n",
    "    \n",
    "    plt.plot(epochs,loss,label=\"training_loss\")\n",
    "    plt.plot(epochs,val_loss,label='val_loss')\n",
    "    plt.title('loss')\n",
    "    plt.xlabel('Epochs')\n",
    "    plt.legend()\n",
    "    \n",
    "    plt.figure()\n",
    "    plt.plot(epochs,accuracy,label=\"training_accuracy\")\n",
    "    plt.plot(epochs,val_accuracy,label=\"val_accuracy\")\n",
    "    plt.title('Accuracy')\n",
    "    plt.xlabel('Epochs')\n",
    "    plt.legend()"
   ]
  },
  {
   "cell_type": "code",
   "execution_count": 24,
   "id": "7aaa7d60",
   "metadata": {
    "execution": {
     "iopub.execute_input": "2022-04-03T13:04:00.578710Z",
     "iopub.status.busy": "2022-04-03T13:04:00.577754Z",
     "iopub.status.idle": "2022-04-03T13:04:00.986220Z",
     "shell.execute_reply": "2022-04-03T13:04:00.986606Z",
     "shell.execute_reply.started": "2022-04-03T08:14:42.913201Z"
    },
    "papermill": {
     "duration": 4.122457,
     "end_time": "2022-04-03T13:04:00.986755",
     "exception": false,
     "start_time": "2022-04-03T13:03:56.864298",
     "status": "completed"
    },
    "tags": []
   },
   "outputs": [
    {
     "data": {
      "image/png": "[encoded data removed]",
      "text/plain": [
       "<Figure size 432x288 with 1 Axes>"
      ]
     },
     "metadata": {
      "needs_background": "light"
     },
     "output_type": "display_data"
    },
    {
     "data": {
      "image/png": "[encoded data removed]",
      "text/plain": [
       "<Figure size 432x288 with 1 Axes>"
      ]
     },
     "metadata": {
      "needs_background": "light"
     },
     "output_type": "display_data"
    }
   ],
   "source": [
    "plot_loss_curves(history_101_food_classes_feature_extract)"
   ]
  },
  {
   "cell_type": "code",
   "execution_count": 25,
   "id": "8bd2dc1c",
   "metadata": {
    "execution": {
     "iopub.execute_input": "2022-04-03T13:04:08.757954Z",
     "iopub.status.busy": "2022-04-03T13:04:08.752912Z",
     "iopub.status.idle": "2022-04-03T13:04:56.020392Z",
     "shell.execute_reply": "2022-04-03T13:04:56.019770Z",
     "shell.execute_reply.started": "2022-04-03T08:14:43.333385Z"
    },
    "papermill": {
     "duration": 51.32355,
     "end_time": "2022-04-03T13:04:56.020580",
     "exception": false,
     "start_time": "2022-04-03T13:04:04.697030",
     "status": "completed"
    },
    "tags": []
   },
   "outputs": [
    {
     "name": "stdout",
     "output_type": "stream",
     "text": [
      "790/790 [==============================] - 46s 59ms/step - loss: 1.0880 - accuracy: 0.7088\n"
     ]
    }
   ],
   "source": [
    "# Load in saved model weights and evaluate model\n",
    "model.load_weights(checkpoint_path)\n",
    "loaded_weights_model_results = model.evaluate(test_data)"
   ]
  },
  {
   "cell_type": "markdown",
   "id": "3d2b3873",
   "metadata": {
    "papermill": {
     "duration": 4.22009,
     "end_time": "2022-04-03T13:05:04.179665",
     "exception": false,
     "start_time": "2022-04-03T13:04:59.959575",
     "status": "completed"
    },
    "tags": []
   },
   "source": [
    "## Fine-tuning "
   ]
  },
  {
   "cell_type": "code",
   "execution_count": 26,
   "id": "cfcd5f09",
   "metadata": {
    "execution": {
     "iopub.execute_input": "2022-04-03T13:05:12.287253Z",
     "iopub.status.busy": "2022-04-03T13:05:12.285621Z",
     "iopub.status.idle": "2022-04-03T13:05:12.287849Z",
     "shell.execute_reply": "2022-04-03T13:05:12.288246Z",
     "shell.execute_reply.started": "2022-04-03T08:15:30.728204Z"
    },
    "papermill": {
     "duration": 4.202445,
     "end_time": "2022-04-03T13:05:12.288382",
     "exception": false,
     "start_time": "2022-04-03T13:05:08.085937",
     "status": "completed"
    },
    "tags": []
   },
   "outputs": [],
   "source": [
    "# Setup EarlyStopping callback to stop training if model's val_loss doesn't improve for 3 epochs\n",
    "early_stopping = tf.keras.callbacks.EarlyStopping(monitor=\"val_loss\", # watch the val loss metric\n",
    "                                                 patience=3) # if val loss decreases for 3 epochs in a row, stop training\n",
    "\n",
    "# Create ModelCheckpoint callback to save best model during fine-tuning\n",
    "checkpoint_path=\"fine_tune_checkpoints/\"\n",
    "model_checkpoint = tf.keras.callbacks.ModelCheckpoint(checkpoint_path,save_best_only=True,monitor=\"val_loss\")"
   ]
  },
  {
   "cell_type": "code",
   "execution_count": 27,
   "id": "433ca213",
   "metadata": {
    "execution": {
     "iopub.execute_input": "2022-04-03T13:05:20.127640Z",
     "iopub.status.busy": "2022-04-03T13:05:20.126738Z",
     "iopub.status.idle": "2022-04-03T13:05:20.128596Z",
     "shell.execute_reply": "2022-04-03T13:05:20.128999Z",
     "shell.execute_reply.started": "2022-04-03T08:15:30.734614Z"
    },
    "papermill": {
     "duration": 3.948507,
     "end_time": "2022-04-03T13:05:20.129133",
     "exception": false,
     "start_time": "2022-04-03T13:05:16.180626",
     "status": "completed"
    },
    "tags": []
   },
   "outputs": [],
   "source": [
    "# Creating learning rate reduction callback\n",
    "reduce_lr = tf.keras.callbacks.ReduceLROnPlateau(monitor=\"val_loss\",\n",
    "                                                 factor=0.2, # multiply the learning rate by 0.2 (reduce by 5x)\n",
    "                                                patience=2,\n",
    "                                                verbose=1, # print out when learning rate goes down \n",
    "                                                min_lr=1e-7)"
   ]
  },
  {
   "cell_type": "code",
   "execution_count": 28,
   "id": "5f19ed94",
   "metadata": {
    "execution": {
     "iopub.execute_input": "2022-04-03T13:05:28.744314Z",
     "iopub.status.busy": "2022-04-03T13:05:28.743475Z",
     "iopub.status.idle": "2022-04-03T13:05:28.754638Z",
     "shell.execute_reply": "2022-04-03T13:05:28.754203Z",
     "shell.execute_reply.started": "2022-04-03T08:15:30.745161Z"
    },
    "papermill": {
     "duration": 4.446512,
     "end_time": "2022-04-03T13:05:28.754761",
     "exception": false,
     "start_time": "2022-04-03T13:05:24.308249",
     "status": "completed"
    },
    "tags": []
   },
   "outputs": [],
   "source": [
    "# Are any of the layers in our model frozen?\n",
    "for layer in model.layers:\n",
    "    layer.trainable = True # set all layers to trainable\n",
    " \n",
    "# Recompile the model (always recompile after any adjustments to a model)\n",
    "model.compile(loss=\"sparse_categorical_crossentropy\",\n",
    "             optimizer=tf.keras.optimizers.Adam(0.0001),\n",
    "             metrics=['accuracy'])"
   ]
  },
  {
   "cell_type": "code",
   "execution_count": 29,
   "id": "0920da2d",
   "metadata": {
    "execution": {
     "iopub.execute_input": "2022-04-03T13:05:36.893053Z",
     "iopub.status.busy": "2022-04-03T13:05:36.892324Z",
     "iopub.status.idle": "2022-04-03T14:16:14.029234Z",
     "shell.execute_reply": "2022-04-03T14:16:14.029834Z",
     "shell.execute_reply.started": "2022-04-03T08:15:30.771748Z"
    },
    "papermill": {
     "duration": 4241.387931,
     "end_time": "2022-04-03T14:16:14.030037",
     "exception": false,
     "start_time": "2022-04-03T13:05:32.642106",
     "status": "completed"
    },
    "tags": []
   },
   "outputs": [
    {
     "name": "stdout",
     "output_type": "stream",
     "text": [
      "Saving TensorBoard logfiles to: training_logs/efficientb0_101_classes_all_data_fine_tune/20220403-130536\n",
      "Epoch 5/15\n",
      "2368/2368 [==============================] - 402s 164ms/step - loss: 1.1852 - accuracy: 0.6903 - val_loss: 0.7333 - val_accuracy: 0.7969\n"
     ]
    },
    {
     "name": "stderr",
     "output_type": "stream",
     "text": [
      "/opt/conda/lib/python3.7/site-packages/keras/utils/generic_utils.py:497: CustomMaskWarning: Custom mask layers require a config and must override get_config. When loading, the custom mask layer must be passed to the custom_objects argument.\n",
      "  category=CustomMaskWarning)\n"
     ]
    },
    {
     "name": "stdout",
     "output_type": "stream",
     "text": [
      "Epoch 6/15\n",
      "2368/2368 [==============================] - 390s 164ms/step - loss: 0.7429 - accuracy: 0.7992 - val_loss: 0.6574 - val_accuracy: 0.8175\n"
     ]
    },
    {
     "name": "stderr",
     "output_type": "stream",
     "text": [
      "/opt/conda/lib/python3.7/site-packages/keras/utils/generic_utils.py:497: CustomMaskWarning: Custom mask layers require a config and must override get_config. When loading, the custom mask layer must be passed to the custom_objects argument.\n",
      "  category=CustomMaskWarning)\n"
     ]
    },
    {
     "name": "stdout",
     "output_type": "stream",
     "text": [
      "Epoch 7/15\n",
      "2368/2368 [==============================] - 393s 165ms/step - loss: 0.5312 - accuracy: 0.8579 - val_loss: 0.6304 - val_accuracy: 0.8212\n"
     ]
    },
    {
     "name": "stderr",
     "output_type": "stream",
     "text": [
      "/opt/conda/lib/python3.7/site-packages/keras/utils/generic_utils.py:497: CustomMaskWarning: Custom mask layers require a config and must override get_config. When loading, the custom mask layer must be passed to the custom_objects argument.\n",
      "  category=CustomMaskWarning)\n"
     ]
    },
    {
     "name": "stdout",
     "output_type": "stream",
     "text": [
      "Epoch 8/15\n",
      "2368/2368 [==============================] - 387s 162ms/step - loss: 0.3863 - accuracy: 0.8958 - val_loss: 0.6312 - val_accuracy: 0.8316\n",
      "Epoch 9/15\n",
      "2368/2368 [==============================] - 387s 163ms/step - loss: 0.2759 - accuracy: 0.9259 - val_loss: 0.6464 - val_accuracy: 0.8191\n",
      "\n",
      "Epoch 00009: ReduceLROnPlateau reducing learning rate to 1.9999999494757503e-05.\n",
      "Epoch 10/15\n",
      "2368/2368 [==============================] - 391s 164ms/step - loss: 0.1657 - accuracy: 0.9612 - val_loss: 0.6066 - val_accuracy: 0.8313\n"
     ]
    },
    {
     "name": "stderr",
     "output_type": "stream",
     "text": [
      "/opt/conda/lib/python3.7/site-packages/keras/utils/generic_utils.py:497: CustomMaskWarning: Custom mask layers require a config and must override get_config. When loading, the custom mask layer must be passed to the custom_objects argument.\n",
      "  category=CustomMaskWarning)\n"
     ]
    },
    {
     "name": "stdout",
     "output_type": "stream",
     "text": [
      "Epoch 11/15\n",
      "2368/2368 [==============================] - 394s 166ms/step - loss: 0.1396 - accuracy: 0.9690 - val_loss: 0.6011 - val_accuracy: 0.8369\n"
     ]
    },
    {
     "name": "stderr",
     "output_type": "stream",
     "text": [
      "/opt/conda/lib/python3.7/site-packages/keras/utils/generic_utils.py:497: CustomMaskWarning: Custom mask layers require a config and must override get_config. When loading, the custom mask layer must be passed to the custom_objects argument.\n",
      "  category=CustomMaskWarning)\n"
     ]
    },
    {
     "name": "stdout",
     "output_type": "stream",
     "text": [
      "Epoch 12/15\n",
      "2368/2368 [==============================] - 390s 164ms/step - loss: 0.1206 - accuracy: 0.9737 - val_loss: 0.6092 - val_accuracy: 0.8353\n",
      "Epoch 13/15\n",
      "2368/2368 [==============================] - 387s 163ms/step - loss: 0.1079 - accuracy: 0.9774 - val_loss: 0.6120 - val_accuracy: 0.8363\n",
      "\n",
      "Epoch 00013: ReduceLROnPlateau reducing learning rate to 3.999999898951501e-06.\n",
      "Epoch 14/15\n",
      "2368/2368 [==============================] - 394s 166ms/step - loss: 0.0962 - accuracy: 0.9801 - val_loss: 0.6103 - val_accuracy: 0.8382\n"
     ]
    }
   ],
   "source": [
    "# Fine tune for another 15 epochs\n",
    "initial_epochs=5\n",
    "fine_tune_epochs = initial_epochs+10\n",
    "\n",
    "# Refit the model (same as model except with more trainable layers)\n",
    "history_101_food_classes_all_data_fine_tune = model.fit(train_data,\n",
    "                                                       epochs=fine_tune_epochs,\n",
    "                                                       steps_per_epoch=len(train_data),\n",
    "                                                       validation_data=test_data,\n",
    "                                                       validation_steps=int(0.15 * len(test_data)),\n",
    "                                                       callbacks=[create_tensorboard_callback(\"training_logs\",\"efficientb0_101_classes_all_data_fine_tune\"),\n",
    "                                                                 model_checkpoint,\n",
    "                                                                 early_stopping,\n",
    "                                                                 reduce_lr],\n",
    "                                                       initial_epoch=history_101_food_classes_feature_extract.epoch[-1])"
   ]
  },
  {
   "cell_type": "code",
   "execution_count": 30,
   "id": "7398ef5e",
   "metadata": {
    "execution": {
     "iopub.execute_input": "2022-04-03T14:16:37.738155Z",
     "iopub.status.busy": "2022-04-03T14:16:37.737222Z",
     "iopub.status.idle": "2022-04-03T14:17:23.703380Z",
     "shell.execute_reply": "2022-04-03T14:17:23.702929Z",
     "shell.execute_reply.started": "2022-04-03T09:30:06.870671Z"
    },
    "papermill": {
     "duration": 57.560031,
     "end_time": "2022-04-03T14:17:23.703618",
     "exception": false,
     "start_time": "2022-04-03T14:16:26.143587",
     "status": "completed"
    },
    "tags": []
   },
   "outputs": [
    {
     "name": "stdout",
     "output_type": "stream",
     "text": [
      "790/790 [==============================] - 46s 58ms/step - loss: 0.6306 - accuracy: 0.8340\n"
     ]
    }
   ],
   "source": [
    "# Evaluate the model on the test data\n",
    "results_fine_tune = model.evaluate(test_data)"
   ]
  },
  {
   "cell_type": "code",
   "execution_count": 31,
   "id": "d37d489f",
   "metadata": {
    "execution": {
     "iopub.execute_input": "2022-04-03T14:17:48.207008Z",
     "iopub.status.busy": "2022-04-03T14:17:48.199408Z",
     "iopub.status.idle": "2022-04-03T14:17:48.209249Z",
     "shell.execute_reply": "2022-04-03T14:17:48.208829Z",
     "shell.execute_reply.started": "2022-04-03T09:30:53.35288Z"
    },
    "papermill": {
     "duration": 12.100485,
     "end_time": "2022-04-03T14:17:48.209370",
     "exception": false,
     "start_time": "2022-04-03T14:17:36.108885",
     "status": "completed"
    },
    "tags": []
   },
   "outputs": [],
   "source": [
    "def compare_historys(original_history,new_history,initial_epochs=5):\n",
    "    \"\"\"\n",
    "    Compares two model history objects.\n",
    "    \"\"\"\n",
    "    # Get original history measurements\n",
    "    acc=original_history.history['accuracy']\n",
    "    loss=original_history.history['loss']\n",
    "    \n",
    "    val_loss=original_history.history['val_loss']\n",
    "    val_acc=original_history.history['val_accuracy']\n",
    "    \n",
    "    # Combine original history with new history\n",
    "    total_acc=acc+new_history.history['accuracy']\n",
    "    total_loss=loss+new_history.history['loss']\n",
    "    \n",
    "    total_val_acc=val_acc+new_history.history['val_accuracy']\n",
    "    total_val_loss=val_loss+new_history.history['val_loss']\n",
    "    \n",
    "    # Make plots\n",
    "    plt.figure(figsize=(8,8))\n",
    "    plt.subplot(2,1,1)\n",
    "    plt.plot(total_acc,label=\"Training_accuracy\")\n",
    "    plt.plot(total_val_acc,label=\"Validation_accuracy\")\n",
    "    plt.plot([initial_epochs-1,initial_epochs-1],plt.ylim(),label=\"Start Fine Tuning\") # reshift plot around epochs\n",
    "    plt.legend(loc=\"lower right\")\n",
    "    plt.title(\"Training and Validation accuracy\")\n",
    "    \n",
    "    plt.subplot(2,1,2)\n",
    "    plt.plot(total_loss,label=\"Training_loss\")\n",
    "    plt.plot(total_val_loss, label='Validation Loss')\n",
    "    plt.plot([initial_epochs-1,initial_epochs-1],plt.ylim(),label=\"Start Fine Tuning\") # reshift plot around epochs\n",
    "    plt.legend(loc=\"upper right\")\n",
    "    plt.title(\"Training and Validation loss\")\n",
    "    plt.xlabel('epoch')\n",
    "    plt.show()"
   ]
  },
  {
   "cell_type": "code",
   "execution_count": 32,
   "id": "7816a2be",
   "metadata": {
    "execution": {
     "iopub.execute_input": "2022-04-03T14:18:12.414602Z",
     "iopub.status.busy": "2022-04-03T14:18:12.413800Z",
     "iopub.status.idle": "2022-04-03T14:18:12.779027Z",
     "shell.execute_reply": "2022-04-03T14:18:12.779425Z",
     "shell.execute_reply.started": "2022-04-03T09:30:53.365698Z"
    },
    "papermill": {
     "duration": 12.129799,
     "end_time": "2022-04-03T14:18:12.779591",
     "exception": false,
     "start_time": "2022-04-03T14:18:00.649792",
     "status": "completed"
    },
    "tags": []
   },
   "outputs": [
    {
     "data": {
      "image/png": "[encoded data removed]",
      "text/plain": [
       "<Figure size 576x576 with 2 Axes>"
      ]
     },
     "metadata": {
      "needs_background": "light"
     },
     "output_type": "display_data"
    }
   ],
   "source": [
    "compare_historys(original_history=history_101_food_classes_feature_extract,\n",
    "               new_history=history_101_food_classes_all_data_fine_tune,\n",
    "               initial_epochs=5)"
   ]
  },
  {
   "cell_type": "code",
   "execution_count": 33,
   "id": "4054f4c6",
   "metadata": {
    "execution": {
     "iopub.execute_input": "2022-04-03T14:18:37.153631Z",
     "iopub.status.busy": "2022-04-03T14:18:37.150866Z",
     "iopub.status.idle": "2022-04-03T14:19:16.493847Z",
     "shell.execute_reply": "2022-04-03T14:19:16.493198Z",
     "shell.execute_reply.started": "2022-04-03T09:30:53.702879Z"
    },
    "papermill": {
     "duration": 51.915888,
     "end_time": "2022-04-03T14:19:16.494037",
     "exception": false,
     "start_time": "2022-04-03T14:18:24.578149",
     "status": "completed"
    },
    "tags": []
   },
   "outputs": [
    {
     "name": "stderr",
     "output_type": "stream",
     "text": [
      "/opt/conda/lib/python3.7/site-packages/keras/utils/generic_utils.py:497: CustomMaskWarning: Custom mask layers require a config and must override get_config. When loading, the custom mask layer must be passed to the custom_objects argument.\n",
      "  category=CustomMaskWarning)\n"
     ]
    }
   ],
   "source": [
    "save_dir = \"efficientnetb0_fine_tune_model\"\n",
    "model.save(save_dir)"
   ]
  },
  {
   "cell_type": "code",
   "execution_count": 34,
   "id": "c049b93f",
   "metadata": {
    "execution": {
     "iopub.execute_input": "2022-04-03T14:19:40.628964Z",
     "iopub.status.busy": "2022-04-03T14:19:40.628160Z",
     "iopub.status.idle": "2022-04-03T14:19:56.305032Z",
     "shell.execute_reply": "2022-04-03T14:19:56.304098Z",
     "shell.execute_reply.started": "2022-04-03T09:31:33.1359Z"
    },
    "papermill": {
     "duration": 28.052803,
     "end_time": "2022-04-03T14:19:56.305220",
     "exception": false,
     "start_time": "2022-04-03T14:19:28.252417",
     "status": "completed"
    },
    "tags": []
   },
   "outputs": [],
   "source": [
    "loaded_fine_tuned_model = tf.keras.models.load_model(\"./efficientnetb0_fine_tune_model\")"
   ]
  },
  {
   "cell_type": "code",
   "execution_count": 35,
   "id": "83fc603f",
   "metadata": {
    "execution": {
     "iopub.execute_input": "2022-04-03T14:20:20.784197Z",
     "iopub.status.busy": "2022-04-03T14:20:20.783334Z",
     "iopub.status.idle": "2022-04-03T14:21:44.647340Z",
     "shell.execute_reply": "2022-04-03T14:21:44.648304Z",
     "shell.execute_reply.started": "2022-04-03T09:31:49.029069Z"
    },
    "papermill": {
     "duration": 95.984926,
     "end_time": "2022-04-03T14:21:44.648540",
     "exception": false,
     "start_time": "2022-04-03T14:20:08.663614",
     "status": "completed"
    },
    "tags": []
   },
   "outputs": [
    {
     "name": "stdout",
     "output_type": "stream",
     "text": [
      "790/790 [==============================] - 49s 59ms/step - loss: 0.6306 - accuracy: 0.8340\n"
     ]
    },
    {
     "data": {
      "text/plain": [
       "[0.6306089758872986, 0.8340197801589966]"
      ]
     },
     "execution_count": 35,
     "metadata": {},
     "output_type": "execute_result"
    }
   ],
   "source": [
    "loaded_fine_tuned_model.evaluate(test_data)"
   ]
  },
  {
   "cell_type": "code",
   "execution_count": null,
   "id": "38145cd9",
   "metadata": {
    "papermill": {
     "duration": 12.097046,
     "end_time": "2022-04-03T14:22:09.194995",
     "exception": false,
     "start_time": "2022-04-03T14:21:57.097949",
     "status": "completed"
    },
    "tags": []
   },
   "outputs": [],
   "source": []
  }
 ],
 "metadata": {
  "kernelspec": {
   "display_name": "Python 3",
   "language": "python",
   "name": "python3"
  },
  "language_info": {
   "codemirror_mode": {
    "name": "ipython",
    "version": 3
   },
   "file_extension": ".py",
   "mimetype": "text/x-python",
   "name": "python",
   "nbconvert_exporter": "python",
   "pygments_lexer": "ipython3",
   "version": "3.7.12"
  },
  "papermill": {
   "default_parameters": {},
   "duration": 6271.757948,
   "end_time": "2022-04-03T14:22:25.768507",
   "environment_variables": {},
   "exception": null,
   "input_path": "__notebook__.ipynb",
   "output_path": "__notebook__.ipynb",
   "parameters": {},
   "start_time": "2022-04-03T12:37:54.010559",
   "version": "2.3.3"
  },
  "widgets": {
   "application/vnd.jupyter.widget-state+json": {
    "state": {
     "01847cffdde54f4897059c87365851d0": {
      "model_module": "@jupyter-widgets/controls",
      "model_module_version": "1.5.0",
      "model_name": "ProgressStyleModel",
      "state": {
       "_model_module": "@jupyter-widgets/controls",
       "_model_module_version": "1.5.0",
       "_model_name": "ProgressStyleModel",
       "_view_count": null,
       "_view_module": "@jupyter-widgets/base",
       "_view_module_version": "1.2.0",
       "_view_name": "StyleView",
       "bar_color": null,
       "description_width": ""
      }
     },
     "089a2427deb34ade829ed171b50681ee": {
      "model_module": "@jupyter-widgets/controls",
      "model_module_version": "1.5.0",
      "model_name": "DescriptionStyleModel",
      "state": {
       "_model_module": "@jupyter-widgets/controls",
       "_model_module_version": "1.5.0",
       "_model_name": "DescriptionStyleModel",
       "_view_count": null,
       "_view_module": "@jupyter-widgets/base",
       "_view_module_version": "1.2.0",
       "_view_name": "StyleView",
       "description_width": ""
      }
     },
     "0adeedfeadbf456694d13a12ffcfed89": {
      "model_module": "@jupyter-widgets/controls",
      "model_module_version": "1.5.0",
      "model_name": "ProgressStyleModel",
      "state": {
       "_model_module": "@jupyter-widgets/controls",
       "_model_module_version": "1.5.0",
       "_model_name": "ProgressStyleModel",
       "_view_count": null,
       "_view_module": "@jupyter-widgets/base",
       "_view_module_version": "1.2.0",
       "_view_name": "StyleView",
       "bar_color": null,
       "description_width": ""
      }
     },
     "0d0733f1f02e47188f7a0bd4d6a2bb05": {
      "model_module": "@jupyter-widgets/base",
      "model_module_version": "1.2.0",
      "model_name": "LayoutModel",
      "state": {
       "_model_module": "@jupyter-widgets/base",
       "_model_module_version": "1.2.0",
       "_model_name": "LayoutModel",
       "_view_count": null,
       "_view_module": "@jupyter-widgets/base",
       "_view_module_version": "1.2.0",
       "_view_name": "LayoutView",
       "align_content": null,
       "align_items": null,
       "align_self": null,
       "border": null,
       "bottom": null,
       "display": null,
       "flex": null,
       "flex_flow": null,
       "grid_area": null,
       "grid_auto_columns": null,
       "grid_auto_flow": null,
       "grid_auto_rows": null,
       "grid_column": null,
       "grid_gap": null,
       "grid_row": null,
       "grid_template_areas": null,
       "grid_template_columns": null,
       "grid_template_rows": null,
       "height": null,
       "justify_content": null,
       "justify_items": null,
       "left": null,
       "margin": null,
       "max_height": null,
       "max_width": null,
       "min_height": null,
       "min_width": null,
       "object_fit": null,
       "object_position": null,
       "order": null,
       "overflow": null,
       "overflow_x": null,
       "overflow_y": null,
       "padding": null,
       "right": null,
       "top": null,
       "visibility": null,
       "width": null
      }
     },
     "118749f2405345de991f596fac26ec47": {
      "model_module": "@jupyter-widgets/base",
      "model_module_version": "1.2.0",
      "model_name": "LayoutModel",
      "state": {
       "_model_module": "@jupyter-widgets/base",
       "_model_module_version": "1.2.0",
       "_model_name": "LayoutModel",
       "_view_count": null,
       "_view_module": "@jupyter-widgets/base",
       "_view_module_version": "1.2.0",
       "_view_name": "LayoutView",
       "align_content": null,
       "align_items": null,
       "align_self": null,
       "border": null,
       "bottom": null,
       "display": null,
       "flex": null,
       "flex_flow": null,
       "grid_area": null,
       "grid_auto_columns": null,
       "grid_auto_flow": null,
       "grid_auto_rows": null,
       "grid_column": null,
       "grid_gap": null,
       "grid_row": null,
       "grid_template_areas": null,
       "grid_template_columns": null,
       "grid_template_rows": null,
       "height": null,
       "justify_content": null,
       "justify_items": null,
       "left": null,
       "margin": null,
       "max_height": null,
       "max_width": null,
       "min_height": null,
       "min_width": null,
       "object_fit": null,
       "object_position": null,
       "order": null,
       "overflow": null,
       "overflow_x": null,
       "overflow_y": null,
       "padding": null,
       "right": null,
       "top": null,
       "visibility": null,
       "width": "20px"
      }
     },
     "128a1556a4254f039091292ea0cdf534": {
      "model_module": "@jupyter-widgets/base",
      "model_module_version": "1.2.0",
      "model_name": "LayoutModel",
      "state": {
       "_model_module": "@jupyter-widgets/base",
       "_model_module_version": "1.2.0",
       "_model_name": "LayoutModel",
       "_view_count": null,
       "_view_module": "@jupyter-widgets/base",
       "_view_module_version": "1.2.0",
       "_view_name": "LayoutView",
       "align_content": null,
       "align_items": null,
       "align_self": null,
       "border": null,
       "bottom": null,
       "display": null,
       "flex": null,
       "flex_flow": null,
       "grid_area": null,
       "grid_auto_columns": null,
       "grid_auto_flow": null,
       "grid_auto_rows": null,
       "grid_column": null,
       "grid_gap": null,
       "grid_row": null,
       "grid_template_areas": null,
       "grid_template_columns": null,
       "grid_template_rows": null,
       "height": null,
       "justify_content": null,
       "justify_items": null,
       "left": null,
       "margin": null,
       "max_height": null,
       "max_width": null,
       "min_height": null,
       "min_width": null,
       "object_fit": null,
       "object_position": null,
       "order": null,
       "overflow": null,
       "overflow_x": null,
       "overflow_y": null,
       "padding": null,
       "right": null,
       "top": null,
       "visibility": null,
       "width": null
      }
     },
     "12f9d058ee8b47c5a808a5405155e8b2": {
      "model_module": "@jupyter-widgets/base",
      "model_module_version": "1.2.0",
      "model_name": "LayoutModel",
      "state": {
       "_model_module": "@jupyter-widgets/base",
       "_model_module_version": "1.2.0",
       "_model_name": "LayoutModel",
       "_view_count": null,
       "_view_module": "@jupyter-widgets/base",
       "_view_module_version": "1.2.0",
       "_view_name": "LayoutView",
       "align_content": null,
       "align_items": null,
       "align_self": null,
       "border": null,
       "bottom": null,
       "display": null,
       "flex": null,
       "flex_flow": null,
       "grid_area": null,
       "grid_auto_columns": null,
       "grid_auto_flow": null,
       "grid_auto_rows": null,
       "grid_column": null,
       "grid_gap": null,
       "grid_row": null,
       "grid_template_areas": null,
       "grid_template_columns": null,
       "grid_template_rows": null,
       "height": null,
       "justify_content": null,
       "justify_items": null,
       "left": null,
       "margin": null,
       "max_height": null,
       "max_width": null,
       "min_height": null,
       "min_width": null,
       "object_fit": null,
       "object_position": null,
       "order": null,
       "overflow": null,
       "overflow_x": null,
       "overflow_y": null,
       "padding": null,
       "right": null,
       "top": null,
       "visibility": null,
       "width": null
      }
     },
     "1343c15181ad4226afe0c3d1d428d75f": {
      "model_module": "@jupyter-widgets/controls",
      "model_module_version": "1.5.0",
      "model_name": "DescriptionStyleModel",
      "state": {
       "_model_module": "@jupyter-widgets/controls",
       "_model_module_version": "1.5.0",
       "_model_name": "DescriptionStyleModel",
       "_view_count": null,
       "_view_module": "@jupyter-widgets/base",
       "_view_module_version": "1.2.0",
       "_view_name": "StyleView",
       "description_width": ""
      }
     },
     "193229dc11fa446a84d3f7897b71c3a7": {
      "model_module": "@jupyter-widgets/controls",
      "model_module_version": "1.5.0",
      "model_name": "FloatProgressModel",
      "state": {
       "_dom_classes": [],
       "_model_module": "@jupyter-widgets/controls",
       "_model_module_version": "1.5.0",
       "_model_name": "FloatProgressModel",
       "_view_count": null,
       "_view_module": "@jupyter-widgets/controls",
       "_view_module_version": "1.5.0",
       "_view_name": "ProgressView",
       "bar_style": "success",
       "description": "",
       "description_tooltip": null,
       "layout": "IPY_MODEL_118749f2405345de991f596fac26ec47",
       "max": 1.0,
       "min": 0.0,
       "orientation": "horizontal",
       "style": "IPY_MODEL_e1fcddc3e0c7475aa8298f58187c200d",
       "value": 1.0
      }
     },
     "1a7caf80aa164d15941d2bb5bd04b95e": {
      "model_module": "@jupyter-widgets/controls",
      "model_module_version": "1.5.0",
      "model_name": "FloatProgressModel",
      "state": {
       "_dom_classes": [],
       "_model_module": "@jupyter-widgets/controls",
       "_model_module_version": "1.5.0",
       "_model_name": "FloatProgressModel",
       "_view_count": null,
       "_view_module": "@jupyter-widgets/controls",
       "_view_module_version": "1.5.0",
       "_view_name": "ProgressView",
       "bar_style": "",
       "description": "",
       "description_tooltip": null,
       "layout": "IPY_MODEL_f1038ef0aac44255a327b75f7c7e5313",
       "max": 75750.0,
       "min": 0.0,
       "orientation": "horizontal",
       "style": "IPY_MODEL_01847cffdde54f4897059c87365851d0",
       "value": 75750.0
      }
     },
     "1eeb68cc670c4607930fe36b39449986": {
      "model_module": "@jupyter-widgets/controls",
      "model_module_version": "1.5.0",
      "model_name": "HTMLModel",
      "state": {
       "_dom_classes": [],
       "_model_module": "@jupyter-widgets/controls",
       "_model_module_version": "1.5.0",
       "_model_name": "HTMLModel",
       "_view_count": null,
       "_view_module": "@jupyter-widgets/controls",
       "_view_module_version": "1.5.0",
       "_view_name": "HTMLView",
       "description": "",
       "description_tooltip": null,
       "layout": "IPY_MODEL_eaf85fdcd09947889f09a664c1aa07f9",
       "placeholder": "​",
       "style": "IPY_MODEL_cf545dbcf7c74775a427543abbbfd424",
       "value": " 75477/75750 [00:09&lt;00:00, 6112.23 examples/s]"
      }
     },
     "20a5282537f34649ae602ac4866794f3": {
      "model_module": "@jupyter-widgets/controls",
      "model_module_version": "1.5.0",
      "model_name": "HBoxModel",
      "state": {
       "_dom_classes": [],
       "_model_module": "@jupyter-widgets/controls",
       "_model_module_version": "1.5.0",
       "_model_name": "HBoxModel",
       "_view_count": null,
       "_view_module": "@jupyter-widgets/controls",
       "_view_module_version": "1.5.0",
       "_view_name": "HBoxView",
       "box_style": "",
       "children": [
        "IPY_MODEL_4eab802036074db3b5298e836c197e9e",
        "IPY_MODEL_250523823ef5433fa559f4b560f8a944",
        "IPY_MODEL_fbef70d7a6234bcbb8213e5efb17785c"
       ],
       "layout": "IPY_MODEL_8c798e500e2144d492e7fe4c5fe449d0"
      }
     },
     "24b90db3290b4998953fe52a65e2a929": {
      "model_module": "@jupyter-widgets/controls",
      "model_module_version": "1.5.0",
      "model_name": "DescriptionStyleModel",
      "state": {
       "_model_module": "@jupyter-widgets/controls",
       "_model_module_version": "1.5.0",
       "_model_name": "DescriptionStyleModel",
       "_view_count": null,
       "_view_module": "@jupyter-widgets/base",
       "_view_module_version": "1.2.0",
       "_view_name": "StyleView",
       "description_width": ""
      }
     },
     "250523823ef5433fa559f4b560f8a944": {
      "model_module": "@jupyter-widgets/controls",
      "model_module_version": "1.5.0",
      "model_name": "FloatProgressModel",
      "state": {
       "_dom_classes": [],
       "_model_module": "@jupyter-widgets/controls",
       "_model_module_version": "1.5.0",
       "_model_name": "FloatProgressModel",
       "_view_count": null,
       "_view_module": "@jupyter-widgets/controls",
       "_view_module_version": "1.5.0",
       "_view_name": "ProgressView",
       "bar_style": "",
       "description": "",
       "description_tooltip": null,
       "layout": "IPY_MODEL_a556813dff554a32bd2615c265f10319",
       "max": 25250.0,
       "min": 0.0,
       "orientation": "horizontal",
       "style": "IPY_MODEL_eabd45930f6340388d5404bb0da40e1c",
       "value": 25250.0
      }
     },
     "2634272c304a43a8858f7a3552724237": {
      "model_module": "@jupyter-widgets/base",
      "model_module_version": "1.2.0",
      "model_name": "LayoutModel",
      "state": {
       "_model_module": "@jupyter-widgets/base",
       "_model_module_version": "1.2.0",
       "_model_name": "LayoutModel",
       "_view_count": null,
       "_view_module": "@jupyter-widgets/base",
       "_view_module_version": "1.2.0",
       "_view_name": "LayoutView",
       "align_content": null,
       "align_items": null,
       "align_self": null,
       "border": null,
       "bottom": null,
       "display": null,
       "flex": null,
       "flex_flow": null,
       "grid_area": null,
       "grid_auto_columns": null,
       "grid_auto_flow": null,
       "grid_auto_rows": null,
       "grid_column": null,
       "grid_gap": null,
       "grid_row": null,
       "grid_template_areas": null,
       "grid_template_columns": null,
       "grid_template_rows": null,
       "height": null,
       "justify_content": null,
       "justify_items": null,
       "left": null,
       "margin": null,
       "max_height": null,
       "max_width": null,
       "min_height": null,
       "min_width": null,
       "object_fit": null,
       "object_position": null,
       "order": null,
       "overflow": null,
       "overflow_x": null,
       "overflow_y": null,
       "padding": null,
       "right": null,
       "top": null,
       "visibility": null,
       "width": null
      }
     },
     "26c87c20bdaf4c098f2023fc09f5b99f": {
      "model_module": "@jupyter-widgets/controls",
      "model_module_version": "1.5.0",
      "model_name": "DescriptionStyleModel",
      "state": {
       "_model_module": "@jupyter-widgets/controls",
       "_model_module_version": "1.5.0",
       "_model_name": "DescriptionStyleModel",
       "_view_count": null,
       "_view_module": "@jupyter-widgets/base",
       "_view_module_version": "1.2.0",
       "_view_name": "StyleView",
       "description_width": ""
      }
     },
     "279ee2da8e7e439ea7bc24f63f0889d0": {
      "model_module": "@jupyter-widgets/controls",
      "model_module_version": "1.5.0",
      "model_name": "DescriptionStyleModel",
      "state": {
       "_model_module": "@jupyter-widgets/controls",
       "_model_module_version": "1.5.0",
       "_model_name": "DescriptionStyleModel",
       "_view_count": null,
       "_view_module": "@jupyter-widgets/base",
       "_view_module_version": "1.2.0",
       "_view_name": "StyleView",
       "description_width": ""
      }
     },
     "2934aae9df6545218cec47d1a4045fc1": {
      "model_module": "@jupyter-widgets/controls",
      "model_module_version": "1.5.0",
      "model_name": "HTMLModel",
      "state": {
       "_dom_classes": [],
       "_model_module": "@jupyter-widgets/controls",
       "_model_module_version": "1.5.0",
       "_model_name": "HTMLModel",
       "_view_count": null,
       "_view_module": "@jupyter-widgets/controls",
       "_view_module_version": "1.5.0",
       "_view_name": "HTMLView",
       "description": "",
       "description_tooltip": null,
       "layout": "IPY_MODEL_e594ed747f0f4b23834808d3fa0d4a9a",
       "placeholder": "​",
       "style": "IPY_MODEL_1343c15181ad4226afe0c3d1d428d75f",
       "value": "Dl Completed...: 100%"
      }
     },
     "2ff02595daae492f8646247b38dbca79": {
      "model_module": "@jupyter-widgets/base",
      "model_module_version": "1.2.0",
      "model_name": "LayoutModel",
      "state": {
       "_model_module": "@jupyter-widgets/base",
       "_model_module_version": "1.2.0",
       "_model_name": "LayoutModel",
       "_view_count": null,
       "_view_module": "@jupyter-widgets/base",
       "_view_module_version": "1.2.0",
       "_view_name": "LayoutView",
       "align_content": null,
       "align_items": null,
       "align_self": null,
       "border": null,
       "bottom": null,
       "display": null,
       "flex": null,
       "flex_flow": null,
       "grid_area": null,
       "grid_auto_columns": null,
       "grid_auto_flow": null,
       "grid_auto_rows": null,
       "grid_column": null,
       "grid_gap": null,
       "grid_row": null,
       "grid_template_areas": null,
       "grid_template_columns": null,
       "grid_template_rows": null,
       "height": null,
       "justify_content": null,
       "justify_items": null,
       "left": null,
       "margin": null,
       "max_height": null,
       "max_width": null,
       "min_height": null,
       "min_width": null,
       "object_fit": null,
       "object_position": null,
       "order": null,
       "overflow": null,
       "overflow_x": null,
       "overflow_y": null,
       "padding": null,
       "right": null,
       "top": null,
       "visibility": null,
       "width": null
      }
     },
     "3347e8fcb2f646e48a0c967eb7347d93": {
      "model_module": "@jupyter-widgets/base",
      "model_module_version": "1.2.0",
      "model_name": "LayoutModel",
      "state": {
       "_model_module": "@jupyter-widgets/base",
       "_model_module_version": "1.2.0",
       "_model_name": "LayoutModel",
       "_view_count": null,
       "_view_module": "@jupyter-widgets/base",
       "_view_module_version": "1.2.0",
       "_view_name": "LayoutView",
       "align_content": null,
       "align_items": null,
       "align_self": null,
       "border": null,
       "bottom": null,
       "display": null,
       "flex": null,
       "flex_flow": null,
       "grid_area": null,
       "grid_auto_columns": null,
       "grid_auto_flow": null,
       "grid_auto_rows": null,
       "grid_column": null,
       "grid_gap": null,
       "grid_row": null,
       "grid_template_areas": null,
       "grid_template_columns": null,
       "grid_template_rows": null,
       "height": null,
       "justify_content": null,
       "justify_items": null,
       "left": null,
       "margin": null,
       "max_height": null,
       "max_width": null,
       "min_height": null,
       "min_width": null,
       "object_fit": null,
       "object_position": null,
       "order": null,
       "overflow": null,
       "overflow_x": null,
       "overflow_y": null,
       "padding": null,
       "right": null,
       "top": null,
       "visibility": null,
       "width": null
      }
     },
     "379448ff37f4447a965cfcfc6cd575cb": {
      "model_module": "@jupyter-widgets/controls",
      "model_module_version": "1.5.0",
      "model_name": "DescriptionStyleModel",
      "state": {
       "_model_module": "@jupyter-widgets/controls",
       "_model_module_version": "1.5.0",
       "_model_name": "DescriptionStyleModel",
       "_view_count": null,
       "_view_module": "@jupyter-widgets/base",
       "_view_module_version": "1.2.0",
       "_view_name": "StyleView",
       "description_width": ""
      }
     },
     "3aa76385009449449fb39668f45a5558": {
      "model_module": "@jupyter-widgets/controls",
      "model_module_version": "1.5.0",
      "model_name": "FloatProgressModel",
      "state": {
       "_dom_classes": [],
       "_model_module": "@jupyter-widgets/controls",
       "_model_module_version": "1.5.0",
       "_model_name": "FloatProgressModel",
       "_view_count": null,
       "_view_module": "@jupyter-widgets/controls",
       "_view_module_version": "1.5.0",
       "_view_name": "ProgressView",
       "bar_style": "",
       "description": "",
       "description_tooltip": null,
       "layout": "IPY_MODEL_0d0733f1f02e47188f7a0bd4d6a2bb05",
       "max": 2.0,
       "min": 0.0,
       "orientation": "horizontal",
       "style": "IPY_MODEL_eb9267575bb74f91bf8155e4fb7c9bc2",
       "value": 2.0
      }
     },
     "3c9ac7a99ca84cd6a3dacd0baca4fa28": {
      "model_module": "@jupyter-widgets/controls",
      "model_module_version": "1.5.0",
      "model_name": "ProgressStyleModel",
      "state": {
       "_model_module": "@jupyter-widgets/controls",
       "_model_module_version": "1.5.0",
       "_model_name": "ProgressStyleModel",
       "_view_count": null,
       "_view_module": "@jupyter-widgets/base",
       "_view_module_version": "1.2.0",
       "_view_name": "StyleView",
       "bar_color": null,
       "description_width": ""
      }
     },
     "3f775b74d3a048f9a7389991a097ad6b": {
      "model_module": "@jupyter-widgets/base",
      "model_module_version": "1.2.0",
      "model_name": "LayoutModel",
      "state": {
       "_model_module": "@jupyter-widgets/base",
       "_model_module_version": "1.2.0",
       "_model_name": "LayoutModel",
       "_view_count": null,
       "_view_module": "@jupyter-widgets/base",
       "_view_module_version": "1.2.0",
       "_view_name": "LayoutView",
       "align_content": null,
       "align_items": null,
       "align_self": null,
       "border": null,
       "bottom": null,
       "display": null,
       "flex": null,
       "flex_flow": null,
       "grid_area": null,
       "grid_auto_columns": null,
       "grid_auto_flow": null,
       "grid_auto_rows": null,
       "grid_column": null,
       "grid_gap": null,
       "grid_row": null,
       "grid_template_areas": null,
       "grid_template_columns": null,
       "grid_template_rows": null,
       "height": null,
       "justify_content": null,
       "justify_items": null,
       "left": null,
       "margin": null,
       "max_height": null,
       "max_width": null,
       "min_height": null,
       "min_width": null,
       "object_fit": null,
       "object_position": null,
       "order": null,
       "overflow": null,
       "overflow_x": null,
       "overflow_y": null,
       "padding": null,
       "right": null,
       "top": null,
       "visibility": null,
       "width": null
      }
     },
     "440e200c0a1345a889793af176b2c56f": {
      "model_module": "@jupyter-widgets/controls",
      "model_module_version": "1.5.0",
      "model_name": "HTMLModel",
      "state": {
       "_dom_classes": [],
       "_model_module": "@jupyter-widgets/controls",
       "_model_module_version": "1.5.0",
       "_model_name": "HTMLModel",
       "_view_count": null,
       "_view_module": "@jupyter-widgets/controls",
       "_view_module_version": "1.5.0",
       "_view_name": "HTMLView",
       "description": "",
       "description_tooltip": null,
       "layout": "IPY_MODEL_552ea03cebdf46f8bf6e30029f67c0dd",
       "placeholder": "​",
       "style": "IPY_MODEL_95d05393ade5401c8262b847bfc1b142",
       "value": " 75674/75750 [00:51&lt;00:00, 953.13 examples/s]"
      }
     },
     "46e8a65e37884ea682adc09cb38345e4": {
      "model_module": "@jupyter-widgets/controls",
      "model_module_version": "1.5.0",
      "model_name": "ProgressStyleModel",
      "state": {
       "_model_module": "@jupyter-widgets/controls",
       "_model_module_version": "1.5.0",
       "_model_name": "ProgressStyleModel",
       "_view_count": null,
       "_view_module": "@jupyter-widgets/base",
       "_view_module_version": "1.2.0",
       "_view_name": "StyleView",
       "bar_color": null,
       "description_width": ""
      }
     },
     "46fc8ae344cd4127bee56bb1cc20f124": {
      "model_module": "@jupyter-widgets/controls",
      "model_module_version": "1.5.0",
      "model_name": "HTMLModel",
      "state": {
       "_dom_classes": [],
       "_model_module": "@jupyter-widgets/controls",
       "_model_module_version": "1.5.0",
       "_model_name": "HTMLModel",
       "_view_count": null,
       "_view_module": "@jupyter-widgets/controls",
       "_view_module_version": "1.5.0",
       "_view_name": "HTMLView",
       "description": "",
       "description_tooltip": null,
       "layout": "IPY_MODEL_12f9d058ee8b47c5a808a5405155e8b2",
       "placeholder": "​",
       "style": "IPY_MODEL_caf5b04e8e8347539b949835f7475656",
       "value": "Generating splits...: 100%"
      }
     },
     "4eab802036074db3b5298e836c197e9e": {
      "model_module": "@jupyter-widgets/controls",
      "model_module_version": "1.5.0",
      "model_name": "HTMLModel",
      "state": {
       "_dom_classes": [],
       "_model_module": "@jupyter-widgets/controls",
       "_model_module_version": "1.5.0",
       "_model_name": "HTMLModel",
       "_view_count": null,
       "_view_module": "@jupyter-widgets/controls",
       "_view_module_version": "1.5.0",
       "_view_name": "HTMLView",
       "description": "",
       "description_tooltip": null,
       "layout": "IPY_MODEL_889e3313fffd458e968981407595d853",
       "placeholder": "​",
       "style": "IPY_MODEL_7404c726334046a58470a645e67e7f85",
       "value": "Shuffling food101-validation.tfrecord...:  97%"
      }
     },
     "50484bf43c124defa149bb1c827c96ff": {
      "model_module": "@jupyter-widgets/base",
      "model_module_version": "1.2.0",
      "model_name": "LayoutModel",
      "state": {
       "_model_module": "@jupyter-widgets/base",
       "_model_module_version": "1.2.0",
       "_model_name": "LayoutModel",
       "_view_count": null,
       "_view_module": "@jupyter-widgets/base",
       "_view_module_version": "1.2.0",
       "_view_name": "LayoutView",
       "align_content": null,
       "align_items": null,
       "align_self": null,
       "border": null,
       "bottom": null,
       "display": null,
       "flex": null,
       "flex_flow": null,
       "grid_area": null,
       "grid_auto_columns": null,
       "grid_auto_flow": null,
       "grid_auto_rows": null,
       "grid_column": null,
       "grid_gap": null,
       "grid_row": null,
       "grid_template_areas": null,
       "grid_template_columns": null,
       "grid_template_rows": null,
       "height": null,
       "justify_content": null,
       "justify_items": null,
       "left": null,
       "margin": null,
       "max_height": null,
       "max_width": null,
       "min_height": null,
       "min_width": null,
       "object_fit": null,
       "object_position": null,
       "order": null,
       "overflow": null,
       "overflow_x": null,
       "overflow_y": null,
       "padding": null,
       "right": null,
       "top": null,
       "visibility": null,
       "width": "20px"
      }
     },
     "50518707095e42758ebcbe9e75f6ba4b": {
      "model_module": "@jupyter-widgets/controls",
      "model_module_version": "1.5.0",
      "model_name": "HTMLModel",
      "state": {
       "_dom_classes": [],
       "_model_module": "@jupyter-widgets/controls",
       "_model_module_version": "1.5.0",
       "_model_name": "HTMLModel",
       "_view_count": null,
       "_view_module": "@jupyter-widgets/controls",
       "_view_module_version": "1.5.0",
       "_view_name": "HTMLView",
       "description": "",
       "description_tooltip": null,
       "layout": "IPY_MODEL_8cc63ccabcd6426581f581187379576e",
       "placeholder": "​",
       "style": "IPY_MODEL_26c87c20bdaf4c098f2023fc09f5b99f",
       "value": "Dl Size...: 100%"
      }
     },
     "552ea03cebdf46f8bf6e30029f67c0dd": {
      "model_module": "@jupyter-widgets/base",
      "model_module_version": "1.2.0",
      "model_name": "LayoutModel",
      "state": {
       "_model_module": "@jupyter-widgets/base",
       "_model_module_version": "1.2.0",
       "_model_name": "LayoutModel",
       "_view_count": null,
       "_view_module": "@jupyter-widgets/base",
       "_view_module_version": "1.2.0",
       "_view_name": "LayoutView",
       "align_content": null,
       "align_items": null,
       "align_self": null,
       "border": null,
       "bottom": null,
       "display": null,
       "flex": null,
       "flex_flow": null,
       "grid_area": null,
       "grid_auto_columns": null,
       "grid_auto_flow": null,
       "grid_auto_rows": null,
       "grid_column": null,
       "grid_gap": null,
       "grid_row": null,
       "grid_template_areas": null,
       "grid_template_columns": null,
       "grid_template_rows": null,
       "height": null,
       "justify_content": null,
       "justify_items": null,
       "left": null,
       "margin": null,
       "max_height": null,
       "max_width": null,
       "min_height": null,
       "min_width": null,
       "object_fit": null,
       "object_position": null,
       "order": null,
       "overflow": null,
       "overflow_x": null,
       "overflow_y": null,
       "padding": null,
       "right": null,
       "top": null,
       "visibility": null,
       "width": null
      }
     },
     "593370a684fc463bb71e7c20f0b45785": {
      "model_module": "@jupyter-widgets/base",
      "model_module_version": "1.2.0",
      "model_name": "LayoutModel",
      "state": {
       "_model_module": "@jupyter-widgets/base",
       "_model_module_version": "1.2.0",
       "_model_name": "LayoutModel",
       "_view_count": null,
       "_view_module": "@jupyter-widgets/base",
       "_view_module_version": "1.2.0",
       "_view_name": "LayoutView",
       "align_content": null,
       "align_items": null,
       "align_self": null,
       "border": null,
       "bottom": null,
       "display": null,
       "flex": null,
       "flex_flow": null,
       "grid_area": null,
       "grid_auto_columns": null,
       "grid_auto_flow": null,
       "grid_auto_rows": null,
       "grid_column": null,
       "grid_gap": null,
       "grid_row": null,
       "grid_template_areas": null,
       "grid_template_columns": null,
       "grid_template_rows": null,
       "height": null,
       "justify_content": null,
       "justify_items": null,
       "left": null,
       "margin": null,
       "max_height": null,
       "max_width": null,
       "min_height": null,
       "min_width": null,
       "object_fit": null,
       "object_position": null,
       "order": null,
       "overflow": null,
       "overflow_x": null,
       "overflow_y": null,
       "padding": null,
       "right": null,
       "top": null,
       "visibility": null,
       "width": "20px"
      }
     },
     "5a1873299a5b4a0bbabff8e4b17be447": {
      "model_module": "@jupyter-widgets/base",
      "model_module_version": "1.2.0",
      "model_name": "LayoutModel",
      "state": {
       "_model_module": "@jupyter-widgets/base",
       "_model_module_version": "1.2.0",
       "_model_name": "LayoutModel",
       "_view_count": null,
       "_view_module": "@jupyter-widgets/base",
       "_view_module_version": "1.2.0",
       "_view_name": "LayoutView",
       "align_content": null,
       "align_items": null,
       "align_self": null,
       "border": null,
       "bottom": null,
       "display": null,
       "flex": null,
       "flex_flow": null,
       "grid_area": null,
       "grid_auto_columns": null,
       "grid_auto_flow": null,
       "grid_auto_rows": null,
       "grid_column": null,
       "grid_gap": null,
       "grid_row": null,
       "grid_template_areas": null,
       "grid_template_columns": null,
       "grid_template_rows": null,
       "height": null,
       "justify_content": null,
       "justify_items": null,
       "left": null,
       "margin": null,
       "max_height": null,
       "max_width": null,
       "min_height": null,
       "min_width": null,
       "object_fit": null,
       "object_position": null,
       "order": null,
       "overflow": null,
       "overflow_x": null,
       "overflow_y": null,
       "padding": null,
       "right": null,
       "top": null,
       "visibility": null,
       "width": null
      }
     },
     "61744ca787144648b5545dcae420cbad": {
      "model_module": "@jupyter-widgets/controls",
      "model_module_version": "1.5.0",
      "model_name": "HTMLModel",
      "state": {
       "_dom_classes": [],
       "_model_module": "@jupyter-widgets/controls",
       "_model_module_version": "1.5.0",
       "_model_name": "HTMLModel",
       "_view_count": null,
       "_view_module": "@jupyter-widgets/controls",
       "_view_module_version": "1.5.0",
       "_view_name": "HTMLView",
       "description": "",
       "description_tooltip": null,
       "layout": "IPY_MODEL_a73f17f2c6c64936b8ea651998818bc9",
       "placeholder": "​",
       "style": "IPY_MODEL_d5a8d16f2d5b466cb3f35f6fab194987",
       "value": " 1/1 [05:47&lt;00:00, 347.13s/ file]"
      }
     },
     "6aa4f6309c0d4787a80ed27560abda45": {
      "model_module": "@jupyter-widgets/controls",
      "model_module_version": "1.5.0",
      "model_name": "DescriptionStyleModel",
      "state": {
       "_model_module": "@jupyter-widgets/controls",
       "_model_module_version": "1.5.0",
       "_model_name": "DescriptionStyleModel",
       "_view_count": null,
       "_view_module": "@jupyter-widgets/base",
       "_view_module_version": "1.2.0",
       "_view_name": "StyleView",
       "description_width": ""
      }
     },
     "6e72b21ea4b4413eb8dd1cfe3810de47": {
      "model_module": "@jupyter-widgets/controls",
      "model_module_version": "1.5.0",
      "model_name": "DescriptionStyleModel",
      "state": {
       "_model_module": "@jupyter-widgets/controls",
       "_model_module_version": "1.5.0",
       "_model_name": "DescriptionStyleModel",
       "_view_count": null,
       "_view_module": "@jupyter-widgets/base",
       "_view_module_version": "1.2.0",
       "_view_name": "StyleView",
       "description_width": ""
      }
     },
     "7404c726334046a58470a645e67e7f85": {
      "model_module": "@jupyter-widgets/controls",
      "model_module_version": "1.5.0",
      "model_name": "DescriptionStyleModel",
      "state": {
       "_model_module": "@jupyter-widgets/controls",
       "_model_module_version": "1.5.0",
       "_model_name": "DescriptionStyleModel",
       "_view_count": null,
       "_view_module": "@jupyter-widgets/base",
       "_view_module_version": "1.2.0",
       "_view_name": "StyleView",
       "description_width": ""
      }
     },
     "758adc15630c4ff78bc95afaefbdf6c9": {
      "model_module": "@jupyter-widgets/controls",
      "model_module_version": "1.5.0",
      "model_name": "HTMLModel",
      "state": {
       "_dom_classes": [],
       "_model_module": "@jupyter-widgets/controls",
       "_model_module_version": "1.5.0",
       "_model_name": "HTMLModel",
       "_view_count": null,
       "_view_module": "@jupyter-widgets/controls",
       "_view_module_version": "1.5.0",
       "_view_name": "HTMLView",
       "description": "",
       "description_tooltip": null,
       "layout": "IPY_MODEL_deba51b1ed4f4e65b240a8484d846535",
       "placeholder": "​",
       "style": "IPY_MODEL_6aa4f6309c0d4787a80ed27560abda45",
       "value": " 4764/4764 [05:47&lt;00:00, 19.13 MiB/s]"
      }
     },
     "78f5ac2030ec45b9b729794e63742af6": {
      "model_module": "@jupyter-widgets/controls",
      "model_module_version": "1.5.0",
      "model_name": "ProgressStyleModel",
      "state": {
       "_model_module": "@jupyter-widgets/controls",
       "_model_module_version": "1.5.0",
       "_model_name": "ProgressStyleModel",
       "_view_count": null,
       "_view_module": "@jupyter-widgets/base",
       "_view_module_version": "1.2.0",
       "_view_name": "StyleView",
       "bar_color": null,
       "description_width": ""
      }
     },
     "7c2fefadd7bf4ebda219a89a7924d21a": {
      "model_module": "@jupyter-widgets/base",
      "model_module_version": "1.2.0",
      "model_name": "LayoutModel",
      "state": {
       "_model_module": "@jupyter-widgets/base",
       "_model_module_version": "1.2.0",
       "_model_name": "LayoutModel",
       "_view_count": null,
       "_view_module": "@jupyter-widgets/base",
       "_view_module_version": "1.2.0",
       "_view_name": "LayoutView",
       "align_content": null,
       "align_items": null,
       "align_self": null,
       "border": null,
       "bottom": null,
       "display": null,
       "flex": null,
       "flex_flow": null,
       "grid_area": null,
       "grid_auto_columns": null,
       "grid_auto_flow": null,
       "grid_auto_rows": null,
       "grid_column": null,
       "grid_gap": null,
       "grid_row": null,
       "grid_template_areas": null,
       "grid_template_columns": null,
       "grid_template_rows": null,
       "height": null,
       "justify_content": null,
       "justify_items": null,
       "left": null,
       "margin": null,
       "max_height": null,
       "max_width": null,
       "min_height": null,
       "min_width": null,
       "object_fit": null,
       "object_position": null,
       "order": null,
       "overflow": null,
       "overflow_x": null,
       "overflow_y": null,
       "padding": null,
       "right": null,
       "top": null,
       "visibility": null,
       "width": null
      }
     },
     "7e74671c4c2b431a811a3be8e4169325": {
      "model_module": "@jupyter-widgets/controls",
      "model_module_version": "1.5.0",
      "model_name": "HTMLModel",
      "state": {
       "_dom_classes": [],
       "_model_module": "@jupyter-widgets/controls",
       "_model_module_version": "1.5.0",
       "_model_name": "HTMLModel",
       "_view_count": null,
       "_view_module": "@jupyter-widgets/controls",
       "_view_module_version": "1.5.0",
       "_view_name": "HTMLView",
       "description": "",
       "description_tooltip": null,
       "layout": "IPY_MODEL_a79da6501b35410babe4f201836443b7",
       "placeholder": "​",
       "style": "IPY_MODEL_b5ab7858daa54665b5b3729dde8d4638",
       "value": "Generating train examples...: 100%"
      }
     },
     "7eae6a365f0f43c5a3b2fa286d763f48": {
      "model_module": "@jupyter-widgets/base",
      "model_module_version": "1.2.0",
      "model_name": "LayoutModel",
      "state": {
       "_model_module": "@jupyter-widgets/base",
       "_model_module_version": "1.2.0",
       "_model_name": "LayoutModel",
       "_view_count": null,
       "_view_module": "@jupyter-widgets/base",
       "_view_module_version": "1.2.0",
       "_view_name": "LayoutView",
       "align_content": null,
       "align_items": null,
       "align_self": null,
       "border": null,
       "bottom": null,
       "display": null,
       "flex": null,
       "flex_flow": null,
       "grid_area": null,
       "grid_auto_columns": null,
       "grid_auto_flow": null,
       "grid_auto_rows": null,
       "grid_column": null,
       "grid_gap": null,
       "grid_row": null,
       "grid_template_areas": null,
       "grid_template_columns": null,
       "grid_template_rows": null,
       "height": null,
       "justify_content": null,
       "justify_items": null,
       "left": null,
       "margin": null,
       "max_height": null,
       "max_width": null,
       "min_height": null,
       "min_width": null,
       "object_fit": null,
       "object_position": null,
       "order": null,
       "overflow": null,
       "overflow_x": null,
       "overflow_y": null,
       "padding": null,
       "right": null,
       "top": null,
       "visibility": null,
       "width": null
      }
     },
     "807c7b540ee741cc84424b1aaaffcfd0": {
      "model_module": "@jupyter-widgets/base",
      "model_module_version": "1.2.0",
      "model_name": "LayoutModel",
      "state": {
       "_model_module": "@jupyter-widgets/base",
       "_model_module_version": "1.2.0",
       "_model_name": "LayoutModel",
       "_view_count": null,
       "_view_module": "@jupyter-widgets/base",
       "_view_module_version": "1.2.0",
       "_view_name": "LayoutView",
       "align_content": null,
       "align_items": null,
       "align_self": null,
       "border": null,
       "bottom": null,
       "display": null,
       "flex": null,
       "flex_flow": null,
       "grid_area": null,
       "grid_auto_columns": null,
       "grid_auto_flow": null,
       "grid_auto_rows": null,
       "grid_column": null,
       "grid_gap": null,
       "grid_row": null,
       "grid_template_areas": null,
       "grid_template_columns": null,
       "grid_template_rows": null,
       "height": null,
       "justify_content": null,
       "justify_items": null,
       "left": null,
       "margin": null,
       "max_height": null,
       "max_width": null,
       "min_height": null,
       "min_width": null,
       "object_fit": null,
       "object_position": null,
       "order": null,
       "overflow": null,
       "overflow_x": null,
       "overflow_y": null,
       "padding": null,
       "right": null,
       "top": null,
       "visibility": null,
       "width": null
      }
     },
     "83ede30dd97b47c7a91dc6ed852b757e": {
      "model_module": "@jupyter-widgets/controls",
      "model_module_version": "1.5.0",
      "model_name": "HTMLModel",
      "state": {
       "_dom_classes": [],
       "_model_module": "@jupyter-widgets/controls",
       "_model_module_version": "1.5.0",
       "_model_name": "HTMLModel",
       "_view_count": null,
       "_view_module": "@jupyter-widgets/controls",
       "_view_module_version": "1.5.0",
       "_view_name": "HTMLView",
       "description": "",
       "description_tooltip": null,
       "layout": "IPY_MODEL_eb9710cbbfd2416f9ecc8164c50e97d6",
       "placeholder": "​",
       "style": "IPY_MODEL_089a2427deb34ade829ed171b50681ee",
       "value": "Extraction completed...: 100%"
      }
     },
     "857113e7e1514a658da40bc06b8f69f5": {
      "model_module": "@jupyter-widgets/controls",
      "model_module_version": "1.5.0",
      "model_name": "FloatProgressModel",
      "state": {
       "_dom_classes": [],
       "_model_module": "@jupyter-widgets/controls",
       "_model_module_version": "1.5.0",
       "_model_name": "FloatProgressModel",
       "_view_count": null,
       "_view_module": "@jupyter-widgets/controls",
       "_view_module_version": "1.5.0",
       "_view_name": "ProgressView",
       "bar_style": "",
       "description": "",
       "description_tooltip": null,
       "layout": "IPY_MODEL_2ff02595daae492f8646247b38dbca79",
       "max": 25250.0,
       "min": 0.0,
       "orientation": "horizontal",
       "style": "IPY_MODEL_46e8a65e37884ea682adc09cb38345e4",
       "value": 25250.0
      }
     },
     "889e3313fffd458e968981407595d853": {
      "model_module": "@jupyter-widgets/base",
      "model_module_version": "1.2.0",
      "model_name": "LayoutModel",
      "state": {
       "_model_module": "@jupyter-widgets/base",
       "_model_module_version": "1.2.0",
       "_model_name": "LayoutModel",
       "_view_count": null,
       "_view_module": "@jupyter-widgets/base",
       "_view_module_version": "1.2.0",
       "_view_name": "LayoutView",
       "align_content": null,
       "align_items": null,
       "align_self": null,
       "border": null,
       "bottom": null,
       "display": null,
       "flex": null,
       "flex_flow": null,
       "grid_area": null,
       "grid_auto_columns": null,
       "grid_auto_flow": null,
       "grid_auto_rows": null,
       "grid_column": null,
       "grid_gap": null,
       "grid_row": null,
       "grid_template_areas": null,
       "grid_template_columns": null,
       "grid_template_rows": null,
       "height": null,
       "justify_content": null,
       "justify_items": null,
       "left": null,
       "margin": null,
       "max_height": null,
       "max_width": null,
       "min_height": null,
       "min_width": null,
       "object_fit": null,
       "object_position": null,
       "order": null,
       "overflow": null,
       "overflow_x": null,
       "overflow_y": null,
       "padding": null,
       "right": null,
       "top": null,
       "visibility": null,
       "width": null
      }
     },
     "8a5f856f6d154fcd8a4f7d81cbb09c2b": {
      "model_module": "@jupyter-widgets/base",
      "model_module_version": "1.2.0",
      "model_name": "LayoutModel",
      "state": {
       "_model_module": "@jupyter-widgets/base",
       "_model_module_version": "1.2.0",
       "_model_name": "LayoutModel",
       "_view_count": null,
       "_view_module": "@jupyter-widgets/base",
       "_view_module_version": "1.2.0",
       "_view_name": "LayoutView",
       "align_content": null,
       "align_items": null,
       "align_self": null,
       "border": null,
       "bottom": null,
       "display": null,
       "flex": null,
       "flex_flow": null,
       "grid_area": null,
       "grid_auto_columns": null,
       "grid_auto_flow": null,
       "grid_auto_rows": null,
       "grid_column": null,
       "grid_gap": null,
       "grid_row": null,
       "grid_template_areas": null,
       "grid_template_columns": null,
       "grid_template_rows": null,
       "height": null,
       "justify_content": null,
       "justify_items": null,
       "left": null,
       "margin": null,
       "max_height": null,
       "max_width": null,
       "min_height": null,
       "min_width": null,
       "object_fit": null,
       "object_position": null,
       "order": null,
       "overflow": null,
       "overflow_x": null,
       "overflow_y": null,
       "padding": null,
       "right": null,
       "top": null,
       "visibility": null,
       "width": null
      }
     },
     "8ad96103194f4cf5954883f52eb84ed0": {
      "model_module": "@jupyter-widgets/controls",
      "model_module_version": "1.5.0",
      "model_name": "HBoxModel",
      "state": {
       "_dom_classes": [],
       "_model_module": "@jupyter-widgets/controls",
       "_model_module_version": "1.5.0",
       "_model_name": "HBoxModel",
       "_view_count": null,
       "_view_module": "@jupyter-widgets/controls",
       "_view_module_version": "1.5.0",
       "_view_name": "HBoxView",
       "box_style": "",
       "children": [
        "IPY_MODEL_46fc8ae344cd4127bee56bb1cc20f124",
        "IPY_MODEL_3aa76385009449449fb39668f45a5558",
        "IPY_MODEL_dd0095f809554e76a0959a72de524305"
       ],
       "layout": "IPY_MODEL_2634272c304a43a8858f7a3552724237"
      }
     },
     "8c798e500e2144d492e7fe4c5fe449d0": {
      "model_module": "@jupyter-widgets/base",
      "model_module_version": "1.2.0",
      "model_name": "LayoutModel",
      "state": {
       "_model_module": "@jupyter-widgets/base",
       "_model_module_version": "1.2.0",
       "_model_name": "LayoutModel",
       "_view_count": null,
       "_view_module": "@jupyter-widgets/base",
       "_view_module_version": "1.2.0",
       "_view_name": "LayoutView",
       "align_content": null,
       "align_items": null,
       "align_self": null,
       "border": null,
       "bottom": null,
       "display": null,
       "flex": null,
       "flex_flow": null,
       "grid_area": null,
       "grid_auto_columns": null,
       "grid_auto_flow": null,
       "grid_auto_rows": null,
       "grid_column": null,
       "grid_gap": null,
       "grid_row": null,
       "grid_template_areas": null,
       "grid_template_columns": null,
       "grid_template_rows": null,
       "height": null,
       "justify_content": null,
       "justify_items": null,
       "left": null,
       "margin": null,
       "max_height": null,
       "max_width": null,
       "min_height": null,
       "min_width": null,
       "object_fit": null,
       "object_position": null,
       "order": null,
       "overflow": null,
       "overflow_x": null,
       "overflow_y": null,
       "padding": null,
       "right": null,
       "top": null,
       "visibility": null,
       "width": null
      }
     },
     "8cc63ccabcd6426581f581187379576e": {
      "model_module": "@jupyter-widgets/base",
      "model_module_version": "1.2.0",
      "model_name": "LayoutModel",
      "state": {
       "_model_module": "@jupyter-widgets/base",
       "_model_module_version": "1.2.0",
       "_model_name": "LayoutModel",
       "_view_count": null,
       "_view_module": "@jupyter-widgets/base",
       "_view_module_version": "1.2.0",
       "_view_name": "LayoutView",
       "align_content": null,
       "align_items": null,
       "align_self": null,
       "border": null,
       "bottom": null,
       "display": null,
       "flex": null,
       "flex_flow": null,
       "grid_area": null,
       "grid_auto_columns": null,
       "grid_auto_flow": null,
       "grid_auto_rows": null,
       "grid_column": null,
       "grid_gap": null,
       "grid_row": null,
       "grid_template_areas": null,
       "grid_template_columns": null,
       "grid_template_rows": null,
       "height": null,
       "justify_content": null,
       "justify_items": null,
       "left": null,
       "margin": null,
       "max_height": null,
       "max_width": null,
       "min_height": null,
       "min_width": null,
       "object_fit": null,
       "object_position": null,
       "order": null,
       "overflow": null,
       "overflow_x": null,
       "overflow_y": null,
       "padding": null,
       "right": null,
       "top": null,
       "visibility": null,
       "width": null
      }
     },
     "91252630732048af9f068fdb13a73d28": {
      "model_module": "@jupyter-widgets/base",
      "model_module_version": "1.2.0",
      "model_name": "LayoutModel",
      "state": {
       "_model_module": "@jupyter-widgets/base",
       "_model_module_version": "1.2.0",
       "_model_name": "LayoutModel",
       "_view_count": null,
       "_view_module": "@jupyter-widgets/base",
       "_view_module_version": "1.2.0",
       "_view_name": "LayoutView",
       "align_content": null,
       "align_items": null,
       "align_self": null,
       "border": null,
       "bottom": null,
       "display": null,
       "flex": null,
       "flex_flow": null,
       "grid_area": null,
       "grid_auto_columns": null,
       "grid_auto_flow": null,
       "grid_auto_rows": null,
       "grid_column": null,
       "grid_gap": null,
       "grid_row": null,
       "grid_template_areas": null,
       "grid_template_columns": null,
       "grid_template_rows": null,
       "height": null,
       "justify_content": null,
       "justify_items": null,
       "left": null,
       "margin": null,
       "max_height": null,
       "max_width": null,
       "min_height": null,
       "min_width": null,
       "object_fit": null,
       "object_position": null,
       "order": null,
       "overflow": null,
       "overflow_x": null,
       "overflow_y": null,
       "padding": null,
       "right": null,
       "top": null,
       "visibility": null,
       "width": null
      }
     },
     "91ef864efeb54d4cab035a0e760900d8": {
      "model_module": "@jupyter-widgets/base",
      "model_module_version": "1.2.0",
      "model_name": "LayoutModel",
      "state": {
       "_model_module": "@jupyter-widgets/base",
       "_model_module_version": "1.2.0",
       "_model_name": "LayoutModel",
       "_view_count": null,
       "_view_module": "@jupyter-widgets/base",
       "_view_module_version": "1.2.0",
       "_view_name": "LayoutView",
       "align_content": null,
       "align_items": null,
       "align_self": null,
       "border": null,
       "bottom": null,
       "display": null,
       "flex": null,
       "flex_flow": null,
       "grid_area": null,
       "grid_auto_columns": null,
       "grid_auto_flow": null,
       "grid_auto_rows": null,
       "grid_column": null,
       "grid_gap": null,
       "grid_row": null,
       "grid_template_areas": null,
       "grid_template_columns": null,
       "grid_template_rows": null,
       "height": null,
       "justify_content": null,
       "justify_items": null,
       "left": null,
       "margin": null,
       "max_height": null,
       "max_width": null,
       "min_height": null,
       "min_width": null,
       "object_fit": null,
       "object_position": null,
       "order": null,
       "overflow": null,
       "overflow_x": null,
       "overflow_y": null,
       "padding": null,
       "right": null,
       "top": null,
       "visibility": null,
       "width": null
      }
     },
     "95d05393ade5401c8262b847bfc1b142": {
      "model_module": "@jupyter-widgets/controls",
      "model_module_version": "1.5.0",
      "model_name": "DescriptionStyleModel",
      "state": {
       "_model_module": "@jupyter-widgets/controls",
       "_model_module_version": "1.5.0",
       "_model_name": "DescriptionStyleModel",
       "_view_count": null,
       "_view_module": "@jupyter-widgets/base",
       "_view_module_version": "1.2.0",
       "_view_name": "StyleView",
       "description_width": ""
      }
     },
     "988c7d86367941fbbdd0c28ce6c7b497": {
      "model_module": "@jupyter-widgets/base",
      "model_module_version": "1.2.0",
      "model_name": "LayoutModel",
      "state": {
       "_model_module": "@jupyter-widgets/base",
       "_model_module_version": "1.2.0",
       "_model_name": "LayoutModel",
       "_view_count": null,
       "_view_module": "@jupyter-widgets/base",
       "_view_module_version": "1.2.0",
       "_view_name": "LayoutView",
       "align_content": null,
       "align_items": null,
       "align_self": null,
       "border": null,
       "bottom": null,
       "display": null,
       "flex": null,
       "flex_flow": null,
       "grid_area": null,
       "grid_auto_columns": null,
       "grid_auto_flow": null,
       "grid_auto_rows": null,
       "grid_column": null,
       "grid_gap": null,
       "grid_row": null,
       "grid_template_areas": null,
       "grid_template_columns": null,
       "grid_template_rows": null,
       "height": null,
       "justify_content": null,
       "justify_items": null,
       "left": null,
       "margin": null,
       "max_height": null,
       "max_width": null,
       "min_height": null,
       "min_width": null,
       "object_fit": null,
       "object_position": null,
       "order": null,
       "overflow": null,
       "overflow_x": null,
       "overflow_y": null,
       "padding": null,
       "right": null,
       "top": null,
       "visibility": null,
       "width": null
      }
     },
     "a237368b2539491b85f8b98240c24e70": {
      "model_module": "@jupyter-widgets/controls",
      "model_module_version": "1.5.0",
      "model_name": "FloatProgressModel",
      "state": {
       "_dom_classes": [],
       "_model_module": "@jupyter-widgets/controls",
       "_model_module_version": "1.5.0",
       "_model_name": "FloatProgressModel",
       "_view_count": null,
       "_view_module": "@jupyter-widgets/controls",
       "_view_module_version": "1.5.0",
       "_view_name": "ProgressView",
       "bar_style": "success",
       "description": "",
       "description_tooltip": null,
       "layout": "IPY_MODEL_593370a684fc463bb71e7c20f0b45785",
       "max": 1.0,
       "min": 0.0,
       "orientation": "horizontal",
       "style": "IPY_MODEL_3c9ac7a99ca84cd6a3dacd0baca4fa28",
       "value": 1.0
      }
     },
     "a3de4aae8bc649f1a0a46ac83c6ae607": {
      "model_module": "@jupyter-widgets/controls",
      "model_module_version": "1.5.0",
      "model_name": "HTMLModel",
      "state": {
       "_dom_classes": [],
       "_model_module": "@jupyter-widgets/controls",
       "_model_module_version": "1.5.0",
       "_model_name": "HTMLModel",
       "_view_count": null,
       "_view_module": "@jupyter-widgets/controls",
       "_view_module_version": "1.5.0",
       "_view_name": "HTMLView",
       "description": "",
       "description_tooltip": null,
       "layout": "IPY_MODEL_3347e8fcb2f646e48a0c967eb7347d93",
       "placeholder": "​",
       "style": "IPY_MODEL_eda2f856a9af4777b8f3f07b39f25e01",
       "value": "Generating validation examples...: 100%"
      }
     },
     "a556813dff554a32bd2615c265f10319": {
      "model_module": "@jupyter-widgets/base",
      "model_module_version": "1.2.0",
      "model_name": "LayoutModel",
      "state": {
       "_model_module": "@jupyter-widgets/base",
       "_model_module_version": "1.2.0",
       "_model_name": "LayoutModel",
       "_view_count": null,
       "_view_module": "@jupyter-widgets/base",
       "_view_module_version": "1.2.0",
       "_view_name": "LayoutView",
       "align_content": null,
       "align_items": null,
       "align_self": null,
       "border": null,
       "bottom": null,
       "display": null,
       "flex": null,
       "flex_flow": null,
       "grid_area": null,
       "grid_auto_columns": null,
       "grid_auto_flow": null,
       "grid_auto_rows": null,
       "grid_column": null,
       "grid_gap": null,
       "grid_row": null,
       "grid_template_areas": null,
       "grid_template_columns": null,
       "grid_template_rows": null,
       "height": null,
       "justify_content": null,
       "justify_items": null,
       "left": null,
       "margin": null,
       "max_height": null,
       "max_width": null,
       "min_height": null,
       "min_width": null,
       "object_fit": null,
       "object_position": null,
       "order": null,
       "overflow": null,
       "overflow_x": null,
       "overflow_y": null,
       "padding": null,
       "right": null,
       "top": null,
       "visibility": null,
       "width": null
      }
     },
     "a73f17f2c6c64936b8ea651998818bc9": {
      "model_module": "@jupyter-widgets/base",
      "model_module_version": "1.2.0",
      "model_name": "LayoutModel",
      "state": {
       "_model_module": "@jupyter-widgets/base",
       "_model_module_version": "1.2.0",
       "_model_name": "LayoutModel",
       "_view_count": null,
       "_view_module": "@jupyter-widgets/base",
       "_view_module_version": "1.2.0",
       "_view_name": "LayoutView",
       "align_content": null,
       "align_items": null,
       "align_self": null,
       "border": null,
       "bottom": null,
       "display": null,
       "flex": null,
       "flex_flow": null,
       "grid_area": null,
       "grid_auto_columns": null,
       "grid_auto_flow": null,
       "grid_auto_rows": null,
       "grid_column": null,
       "grid_gap": null,
       "grid_row": null,
       "grid_template_areas": null,
       "grid_template_columns": null,
       "grid_template_rows": null,
       "height": null,
       "justify_content": null,
       "justify_items": null,
       "left": null,
       "margin": null,
       "max_height": null,
       "max_width": null,
       "min_height": null,
       "min_width": null,
       "object_fit": null,
       "object_position": null,
       "order": null,
       "overflow": null,
       "overflow_x": null,
       "overflow_y": null,
       "padding": null,
       "right": null,
       "top": null,
       "visibility": null,
       "width": null
      }
     },
     "a79da6501b35410babe4f201836443b7": {
      "model_module": "@jupyter-widgets/base",
      "model_module_version": "1.2.0",
      "model_name": "LayoutModel",
      "state": {
       "_model_module": "@jupyter-widgets/base",
       "_model_module_version": "1.2.0",
       "_model_name": "LayoutModel",
       "_view_count": null,
       "_view_module": "@jupyter-widgets/base",
       "_view_module_version": "1.2.0",
       "_view_name": "LayoutView",
       "align_content": null,
       "align_items": null,
       "align_self": null,
       "border": null,
       "bottom": null,
       "display": null,
       "flex": null,
       "flex_flow": null,
       "grid_area": null,
       "grid_auto_columns": null,
       "grid_auto_flow": null,
       "grid_auto_rows": null,
       "grid_column": null,
       "grid_gap": null,
       "grid_row": null,
       "grid_template_areas": null,
       "grid_template_columns": null,
       "grid_template_rows": null,
       "height": null,
       "justify_content": null,
       "justify_items": null,
       "left": null,
       "margin": null,
       "max_height": null,
       "max_width": null,
       "min_height": null,
       "min_width": null,
       "object_fit": null,
       "object_position": null,
       "order": null,
       "overflow": null,
       "overflow_x": null,
       "overflow_y": null,
       "padding": null,
       "right": null,
       "top": null,
       "visibility": null,
       "width": null
      }
     },
     "aace282fa7924dfcb75b60aa4caa2650": {
      "model_module": "@jupyter-widgets/controls",
      "model_module_version": "1.5.0",
      "model_name": "FloatProgressModel",
      "state": {
       "_dom_classes": [],
       "_model_module": "@jupyter-widgets/controls",
       "_model_module_version": "1.5.0",
       "_model_name": "FloatProgressModel",
       "_view_count": null,
       "_view_module": "@jupyter-widgets/controls",
       "_view_module_version": "1.5.0",
       "_view_name": "ProgressView",
       "bar_style": "",
       "description": "",
       "description_tooltip": null,
       "layout": "IPY_MODEL_c1569b86609c4874b109e0d97106f22c",
       "max": 75750.0,
       "min": 0.0,
       "orientation": "horizontal",
       "style": "IPY_MODEL_0adeedfeadbf456694d13a12ffcfed89",
       "value": 75750.0
      }
     },
     "b5ab7858daa54665b5b3729dde8d4638": {
      "model_module": "@jupyter-widgets/controls",
      "model_module_version": "1.5.0",
      "model_name": "DescriptionStyleModel",
      "state": {
       "_model_module": "@jupyter-widgets/controls",
       "_model_module_version": "1.5.0",
       "_model_name": "DescriptionStyleModel",
       "_view_count": null,
       "_view_module": "@jupyter-widgets/base",
       "_view_module_version": "1.2.0",
       "_view_name": "StyleView",
       "description_width": ""
      }
     },
     "b7ac5caac01a4487bee9035baccb74b3": {
      "model_module": "@jupyter-widgets/controls",
      "model_module_version": "1.5.0",
      "model_name": "HTMLModel",
      "state": {
       "_dom_classes": [],
       "_model_module": "@jupyter-widgets/controls",
       "_model_module_version": "1.5.0",
       "_model_name": "HTMLModel",
       "_view_count": null,
       "_view_module": "@jupyter-widgets/controls",
       "_view_module_version": "1.5.0",
       "_view_name": "HTMLView",
       "description": "",
       "description_tooltip": null,
       "layout": "IPY_MODEL_128a1556a4254f039091292ea0cdf534",
       "placeholder": "​",
       "style": "IPY_MODEL_279ee2da8e7e439ea7bc24f63f0889d0",
       "value": "Shuffling food101-train.tfrecord...: 100%"
      }
     },
     "bc9278bb4009498cb70ae8e9272a4b92": {
      "model_module": "@jupyter-widgets/controls",
      "model_module_version": "1.5.0",
      "model_name": "HTMLModel",
      "state": {
       "_dom_classes": [],
       "_model_module": "@jupyter-widgets/controls",
       "_model_module_version": "1.5.0",
       "_model_name": "HTMLModel",
       "_view_count": null,
       "_view_module": "@jupyter-widgets/controls",
       "_view_module_version": "1.5.0",
       "_view_name": "HTMLView",
       "description": "",
       "description_tooltip": null,
       "layout": "IPY_MODEL_3f775b74d3a048f9a7389991a097ad6b",
       "placeholder": "​",
       "style": "IPY_MODEL_6e72b21ea4b4413eb8dd1cfe3810de47",
       "value": " 1/1 [05:47&lt;00:00, 267.48s/ url]"
      }
     },
     "c1569b86609c4874b109e0d97106f22c": {
      "model_module": "@jupyter-widgets/base",
      "model_module_version": "1.2.0",
      "model_name": "LayoutModel",
      "state": {
       "_model_module": "@jupyter-widgets/base",
       "_model_module_version": "1.2.0",
       "_model_name": "LayoutModel",
       "_view_count": null,
       "_view_module": "@jupyter-widgets/base",
       "_view_module_version": "1.2.0",
       "_view_name": "LayoutView",
       "align_content": null,
       "align_items": null,
       "align_self": null,
       "border": null,
       "bottom": null,
       "display": null,
       "flex": null,
       "flex_flow": null,
       "grid_area": null,
       "grid_auto_columns": null,
       "grid_auto_flow": null,
       "grid_auto_rows": null,
       "grid_column": null,
       "grid_gap": null,
       "grid_row": null,
       "grid_template_areas": null,
       "grid_template_columns": null,
       "grid_template_rows": null,
       "height": null,
       "justify_content": null,
       "justify_items": null,
       "left": null,
       "margin": null,
       "max_height": null,
       "max_width": null,
       "min_height": null,
       "min_width": null,
       "object_fit": null,
       "object_position": null,
       "order": null,
       "overflow": null,
       "overflow_x": null,
       "overflow_y": null,
       "padding": null,
       "right": null,
       "top": null,
       "visibility": null,
       "width": null
      }
     },
     "c2b1bf3fb1af4051add44bc14733a216": {
      "model_module": "@jupyter-widgets/controls",
      "model_module_version": "1.5.0",
      "model_name": "HBoxModel",
      "state": {
       "_dom_classes": [],
       "_model_module": "@jupyter-widgets/controls",
       "_model_module_version": "1.5.0",
       "_model_name": "HBoxModel",
       "_view_count": null,
       "_view_module": "@jupyter-widgets/controls",
       "_view_module_version": "1.5.0",
       "_view_name": "HBoxView",
       "box_style": "",
       "children": [
        "IPY_MODEL_a3de4aae8bc649f1a0a46ac83c6ae607",
        "IPY_MODEL_857113e7e1514a658da40bc06b8f69f5",
        "IPY_MODEL_ca8b9425d42c432389a4a8a64041a779"
       ],
       "layout": "IPY_MODEL_f0687d53f3994f10a93383d72a5dd97e"
      }
     },
     "c61c577ff98a44999143412238914243": {
      "model_module": "@jupyter-widgets/controls",
      "model_module_version": "1.5.0",
      "model_name": "HBoxModel",
      "state": {
       "_dom_classes": [],
       "_model_module": "@jupyter-widgets/controls",
       "_model_module_version": "1.5.0",
       "_model_name": "HBoxModel",
       "_view_count": null,
       "_view_module": "@jupyter-widgets/controls",
       "_view_module_version": "1.5.0",
       "_view_name": "HBoxView",
       "box_style": "",
       "children": [
        "IPY_MODEL_2934aae9df6545218cec47d1a4045fc1",
        "IPY_MODEL_f36215fa7f4c4d8c9948eaf9274c01e6",
        "IPY_MODEL_bc9278bb4009498cb70ae8e9272a4b92"
       ],
       "layout": "IPY_MODEL_91ef864efeb54d4cab035a0e760900d8"
      }
     },
     "ca6ce3fb0c534caa839695ad78e2c4c6": {
      "model_module": "@jupyter-widgets/controls",
      "model_module_version": "1.5.0",
      "model_name": "HBoxModel",
      "state": {
       "_dom_classes": [],
       "_model_module": "@jupyter-widgets/controls",
       "_model_module_version": "1.5.0",
       "_model_name": "HBoxModel",
       "_view_count": null,
       "_view_module": "@jupyter-widgets/controls",
       "_view_module_version": "1.5.0",
       "_view_name": "HBoxView",
       "box_style": "",
       "children": [
        "IPY_MODEL_7e74671c4c2b431a811a3be8e4169325",
        "IPY_MODEL_aace282fa7924dfcb75b60aa4caa2650",
        "IPY_MODEL_440e200c0a1345a889793af176b2c56f"
       ],
       "layout": "IPY_MODEL_988c7d86367941fbbdd0c28ce6c7b497"
      }
     },
     "ca8b9425d42c432389a4a8a64041a779": {
      "model_module": "@jupyter-widgets/controls",
      "model_module_version": "1.5.0",
      "model_name": "HTMLModel",
      "state": {
       "_dom_classes": [],
       "_model_module": "@jupyter-widgets/controls",
       "_model_module_version": "1.5.0",
       "_model_name": "HTMLModel",
       "_view_count": null,
       "_view_module": "@jupyter-widgets/controls",
       "_view_module_version": "1.5.0",
       "_view_name": "HTMLView",
       "description": "",
       "description_tooltip": null,
       "layout": "IPY_MODEL_7eae6a365f0f43c5a3b2fa286d763f48",
       "placeholder": "​",
       "style": "IPY_MODEL_24b90db3290b4998953fe52a65e2a929",
       "value": " 25189/25250 [00:51&lt;00:00, 566.95 examples/s]"
      }
     },
     "caf5b04e8e8347539b949835f7475656": {
      "model_module": "@jupyter-widgets/controls",
      "model_module_version": "1.5.0",
      "model_name": "DescriptionStyleModel",
      "state": {
       "_model_module": "@jupyter-widgets/controls",
       "_model_module_version": "1.5.0",
       "_model_name": "DescriptionStyleModel",
       "_view_count": null,
       "_view_module": "@jupyter-widgets/base",
       "_view_module_version": "1.2.0",
       "_view_name": "StyleView",
       "description_width": ""
      }
     },
     "ccf48443235e4975840a8d3f3d84d5fd": {
      "model_module": "@jupyter-widgets/controls",
      "model_module_version": "1.5.0",
      "model_name": "HBoxModel",
      "state": {
       "_dom_classes": [],
       "_model_module": "@jupyter-widgets/controls",
       "_model_module_version": "1.5.0",
       "_model_name": "HBoxModel",
       "_view_count": null,
       "_view_module": "@jupyter-widgets/controls",
       "_view_module_version": "1.5.0",
       "_view_name": "HBoxView",
       "box_style": "",
       "children": [
        "IPY_MODEL_50518707095e42758ebcbe9e75f6ba4b",
        "IPY_MODEL_a237368b2539491b85f8b98240c24e70",
        "IPY_MODEL_758adc15630c4ff78bc95afaefbdf6c9"
       ],
       "layout": "IPY_MODEL_807c7b540ee741cc84424b1aaaffcfd0"
      }
     },
     "cf545dbcf7c74775a427543abbbfd424": {
      "model_module": "@jupyter-widgets/controls",
      "model_module_version": "1.5.0",
      "model_name": "DescriptionStyleModel",
      "state": {
       "_model_module": "@jupyter-widgets/controls",
       "_model_module_version": "1.5.0",
       "_model_name": "DescriptionStyleModel",
       "_view_count": null,
       "_view_module": "@jupyter-widgets/base",
       "_view_module_version": "1.2.0",
       "_view_name": "StyleView",
       "description_width": ""
      }
     },
     "d5a8d16f2d5b466cb3f35f6fab194987": {
      "model_module": "@jupyter-widgets/controls",
      "model_module_version": "1.5.0",
      "model_name": "DescriptionStyleModel",
      "state": {
       "_model_module": "@jupyter-widgets/controls",
       "_model_module_version": "1.5.0",
       "_model_name": "DescriptionStyleModel",
       "_view_count": null,
       "_view_module": "@jupyter-widgets/base",
       "_view_module_version": "1.2.0",
       "_view_name": "StyleView",
       "description_width": ""
      }
     },
     "d82b7442ffa04c098fe67d732f9c2291": {
      "model_module": "@jupyter-widgets/controls",
      "model_module_version": "1.5.0",
      "model_name": "HBoxModel",
      "state": {
       "_dom_classes": [],
       "_model_module": "@jupyter-widgets/controls",
       "_model_module_version": "1.5.0",
       "_model_name": "HBoxModel",
       "_view_count": null,
       "_view_module": "@jupyter-widgets/controls",
       "_view_module_version": "1.5.0",
       "_view_name": "HBoxView",
       "box_style": "",
       "children": [
        "IPY_MODEL_b7ac5caac01a4487bee9035baccb74b3",
        "IPY_MODEL_1a7caf80aa164d15941d2bb5bd04b95e",
        "IPY_MODEL_1eeb68cc670c4607930fe36b39449986"
       ],
       "layout": "IPY_MODEL_5a1873299a5b4a0bbabff8e4b17be447"
      }
     },
     "dd0095f809554e76a0959a72de524305": {
      "model_module": "@jupyter-widgets/controls",
      "model_module_version": "1.5.0",
      "model_name": "HTMLModel",
      "state": {
       "_dom_classes": [],
       "_model_module": "@jupyter-widgets/controls",
       "_model_module_version": "1.5.0",
       "_model_name": "HTMLModel",
       "_view_count": null,
       "_view_module": "@jupyter-widgets/controls",
       "_view_module_version": "1.5.0",
       "_view_name": "HTMLView",
       "description": "",
       "description_tooltip": null,
       "layout": "IPY_MODEL_8a5f856f6d154fcd8a4f7d81cbb09c2b",
       "placeholder": "​",
       "style": "IPY_MODEL_e6f6a81fa8434a498bb96ac04240df23",
       "value": " 2/2 [01:55&lt;00:00, 57.10s/ splits]"
      }
     },
     "dd7147ae0c334db8b14380283e58b378": {
      "model_module": "@jupyter-widgets/controls",
      "model_module_version": "1.5.0",
      "model_name": "HBoxModel",
      "state": {
       "_dom_classes": [],
       "_model_module": "@jupyter-widgets/controls",
       "_model_module_version": "1.5.0",
       "_model_name": "HBoxModel",
       "_view_count": null,
       "_view_module": "@jupyter-widgets/controls",
       "_view_module_version": "1.5.0",
       "_view_name": "HBoxView",
       "box_style": "",
       "children": [
        "IPY_MODEL_83ede30dd97b47c7a91dc6ed852b757e",
        "IPY_MODEL_193229dc11fa446a84d3f7897b71c3a7",
        "IPY_MODEL_61744ca787144648b5545dcae420cbad"
       ],
       "layout": "IPY_MODEL_7c2fefadd7bf4ebda219a89a7924d21a"
      }
     },
     "deba51b1ed4f4e65b240a8484d846535": {
      "model_module": "@jupyter-widgets/base",
      "model_module_version": "1.2.0",
      "model_name": "LayoutModel",
      "state": {
       "_model_module": "@jupyter-widgets/base",
       "_model_module_version": "1.2.0",
       "_model_name": "LayoutModel",
       "_view_count": null,
       "_view_module": "@jupyter-widgets/base",
       "_view_module_version": "1.2.0",
       "_view_name": "LayoutView",
       "align_content": null,
       "align_items": null,
       "align_self": null,
       "border": null,
       "bottom": null,
       "display": null,
       "flex": null,
       "flex_flow": null,
       "grid_area": null,
       "grid_auto_columns": null,
       "grid_auto_flow": null,
       "grid_auto_rows": null,
       "grid_column": null,
       "grid_gap": null,
       "grid_row": null,
       "grid_template_areas": null,
       "grid_template_columns": null,
       "grid_template_rows": null,
       "height": null,
       "justify_content": null,
       "justify_items": null,
       "left": null,
       "margin": null,
       "max_height": null,
       "max_width": null,
       "min_height": null,
       "min_width": null,
       "object_fit": null,
       "object_position": null,
       "order": null,
       "overflow": null,
       "overflow_x": null,
       "overflow_y": null,
       "padding": null,
       "right": null,
       "top": null,
       "visibility": null,
       "width": null
      }
     },
     "e1fcddc3e0c7475aa8298f58187c200d": {
      "model_module": "@jupyter-widgets/controls",
      "model_module_version": "1.5.0",
      "model_name": "ProgressStyleModel",
      "state": {
       "_model_module": "@jupyter-widgets/controls",
       "_model_module_version": "1.5.0",
       "_model_name": "ProgressStyleModel",
       "_view_count": null,
       "_view_module": "@jupyter-widgets/base",
       "_view_module_version": "1.2.0",
       "_view_name": "StyleView",
       "bar_color": null,
       "description_width": ""
      }
     },
     "e594ed747f0f4b23834808d3fa0d4a9a": {
      "model_module": "@jupyter-widgets/base",
      "model_module_version": "1.2.0",
      "model_name": "LayoutModel",
      "state": {
       "_model_module": "@jupyter-widgets/base",
       "_model_module_version": "1.2.0",
       "_model_name": "LayoutModel",
       "_view_count": null,
       "_view_module": "@jupyter-widgets/base",
       "_view_module_version": "1.2.0",
       "_view_name": "LayoutView",
       "align_content": null,
       "align_items": null,
       "align_self": null,
       "border": null,
       "bottom": null,
       "display": null,
       "flex": null,
       "flex_flow": null,
       "grid_area": null,
       "grid_auto_columns": null,
       "grid_auto_flow": null,
       "grid_auto_rows": null,
       "grid_column": null,
       "grid_gap": null,
       "grid_row": null,
       "grid_template_areas": null,
       "grid_template_columns": null,
       "grid_template_rows": null,
       "height": null,
       "justify_content": null,
       "justify_items": null,
       "left": null,
       "margin": null,
       "max_height": null,
       "max_width": null,
       "min_height": null,
       "min_width": null,
       "object_fit": null,
       "object_position": null,
       "order": null,
       "overflow": null,
       "overflow_x": null,
       "overflow_y": null,
       "padding": null,
       "right": null,
       "top": null,
       "visibility": null,
       "width": null
      }
     },
     "e6f6a81fa8434a498bb96ac04240df23": {
      "model_module": "@jupyter-widgets/controls",
      "model_module_version": "1.5.0",
      "model_name": "DescriptionStyleModel",
      "state": {
       "_model_module": "@jupyter-widgets/controls",
       "_model_module_version": "1.5.0",
       "_model_name": "DescriptionStyleModel",
       "_view_count": null,
       "_view_module": "@jupyter-widgets/base",
       "_view_module_version": "1.2.0",
       "_view_name": "StyleView",
       "description_width": ""
      }
     },
     "eabd45930f6340388d5404bb0da40e1c": {
      "model_module": "@jupyter-widgets/controls",
      "model_module_version": "1.5.0",
      "model_name": "ProgressStyleModel",
      "state": {
       "_model_module": "@jupyter-widgets/controls",
       "_model_module_version": "1.5.0",
       "_model_name": "ProgressStyleModel",
       "_view_count": null,
       "_view_module": "@jupyter-widgets/base",
       "_view_module_version": "1.2.0",
       "_view_name": "StyleView",
       "bar_color": null,
       "description_width": ""
      }
     },
     "eaf85fdcd09947889f09a664c1aa07f9": {
      "model_module": "@jupyter-widgets/base",
      "model_module_version": "1.2.0",
      "model_name": "LayoutModel",
      "state": {
       "_model_module": "@jupyter-widgets/base",
       "_model_module_version": "1.2.0",
       "_model_name": "LayoutModel",
       "_view_count": null,
       "_view_module": "@jupyter-widgets/base",
       "_view_module_version": "1.2.0",
       "_view_name": "LayoutView",
       "align_content": null,
       "align_items": null,
       "align_self": null,
       "border": null,
       "bottom": null,
       "display": null,
       "flex": null,
       "flex_flow": null,
       "grid_area": null,
       "grid_auto_columns": null,
       "grid_auto_flow": null,
       "grid_auto_rows": null,
       "grid_column": null,
       "grid_gap": null,
       "grid_row": null,
       "grid_template_areas": null,
       "grid_template_columns": null,
       "grid_template_rows": null,
       "height": null,
       "justify_content": null,
       "justify_items": null,
       "left": null,
       "margin": null,
       "max_height": null,
       "max_width": null,
       "min_height": null,
       "min_width": null,
       "object_fit": null,
       "object_position": null,
       "order": null,
       "overflow": null,
       "overflow_x": null,
       "overflow_y": null,
       "padding": null,
       "right": null,
       "top": null,
       "visibility": null,
       "width": null
      }
     },
     "eb9267575bb74f91bf8155e4fb7c9bc2": {
      "model_module": "@jupyter-widgets/controls",
      "model_module_version": "1.5.0",
      "model_name": "ProgressStyleModel",
      "state": {
       "_model_module": "@jupyter-widgets/controls",
       "_model_module_version": "1.5.0",
       "_model_name": "ProgressStyleModel",
       "_view_count": null,
       "_view_module": "@jupyter-widgets/base",
       "_view_module_version": "1.2.0",
       "_view_name": "StyleView",
       "bar_color": null,
       "description_width": ""
      }
     },
     "eb9710cbbfd2416f9ecc8164c50e97d6": {
      "model_module": "@jupyter-widgets/base",
      "model_module_version": "1.2.0",
      "model_name": "LayoutModel",
      "state": {
       "_model_module": "@jupyter-widgets/base",
       "_model_module_version": "1.2.0",
       "_model_name": "LayoutModel",
       "_view_count": null,
       "_view_module": "@jupyter-widgets/base",
       "_view_module_version": "1.2.0",
       "_view_name": "LayoutView",
       "align_content": null,
       "align_items": null,
       "align_self": null,
       "border": null,
       "bottom": null,
       "display": null,
       "flex": null,
       "flex_flow": null,
       "grid_area": null,
       "grid_auto_columns": null,
       "grid_auto_flow": null,
       "grid_auto_rows": null,
       "grid_column": null,
       "grid_gap": null,
       "grid_row": null,
       "grid_template_areas": null,
       "grid_template_columns": null,
       "grid_template_rows": null,
       "height": null,
       "justify_content": null,
       "justify_items": null,
       "left": null,
       "margin": null,
       "max_height": null,
       "max_width": null,
       "min_height": null,
       "min_width": null,
       "object_fit": null,
       "object_position": null,
       "order": null,
       "overflow": null,
       "overflow_x": null,
       "overflow_y": null,
       "padding": null,
       "right": null,
       "top": null,
       "visibility": null,
       "width": null
      }
     },
     "eda2f856a9af4777b8f3f07b39f25e01": {
      "model_module": "@jupyter-widgets/controls",
      "model_module_version": "1.5.0",
      "model_name": "DescriptionStyleModel",
      "state": {
       "_model_module": "@jupyter-widgets/controls",
       "_model_module_version": "1.5.0",
       "_model_name": "DescriptionStyleModel",
       "_view_count": null,
       "_view_module": "@jupyter-widgets/base",
       "_view_module_version": "1.2.0",
       "_view_name": "StyleView",
       "description_width": ""
      }
     },
     "f0687d53f3994f10a93383d72a5dd97e": {
      "model_module": "@jupyter-widgets/base",
      "model_module_version": "1.2.0",
      "model_name": "LayoutModel",
      "state": {
       "_model_module": "@jupyter-widgets/base",
       "_model_module_version": "1.2.0",
       "_model_name": "LayoutModel",
       "_view_count": null,
       "_view_module": "@jupyter-widgets/base",
       "_view_module_version": "1.2.0",
       "_view_name": "LayoutView",
       "align_content": null,
       "align_items": null,
       "align_self": null,
       "border": null,
       "bottom": null,
       "display": null,
       "flex": null,
       "flex_flow": null,
       "grid_area": null,
       "grid_auto_columns": null,
       "grid_auto_flow": null,
       "grid_auto_rows": null,
       "grid_column": null,
       "grid_gap": null,
       "grid_row": null,
       "grid_template_areas": null,
       "grid_template_columns": null,
       "grid_template_rows": null,
       "height": null,
       "justify_content": null,
       "justify_items": null,
       "left": null,
       "margin": null,
       "max_height": null,
       "max_width": null,
       "min_height": null,
       "min_width": null,
       "object_fit": null,
       "object_position": null,
       "order": null,
       "overflow": null,
       "overflow_x": null,
       "overflow_y": null,
       "padding": null,
       "right": null,
       "top": null,
       "visibility": null,
       "width": null
      }
     },
     "f1038ef0aac44255a327b75f7c7e5313": {
      "model_module": "@jupyter-widgets/base",
      "model_module_version": "1.2.0",
      "model_name": "LayoutModel",
      "state": {
       "_model_module": "@jupyter-widgets/base",
       "_model_module_version": "1.2.0",
       "_model_name": "LayoutModel",
       "_view_count": null,
       "_view_module": "@jupyter-widgets/base",
       "_view_module_version": "1.2.0",
       "_view_name": "LayoutView",
       "align_content": null,
       "align_items": null,
       "align_self": null,
       "border": null,
       "bottom": null,
       "display": null,
       "flex": null,
       "flex_flow": null,
       "grid_area": null,
       "grid_auto_columns": null,
       "grid_auto_flow": null,
       "grid_auto_rows": null,
       "grid_column": null,
       "grid_gap": null,
       "grid_row": null,
       "grid_template_areas": null,
       "grid_template_columns": null,
       "grid_template_rows": null,
       "height": null,
       "justify_content": null,
       "justify_items": null,
       "left": null,
       "margin": null,
       "max_height": null,
       "max_width": null,
       "min_height": null,
       "min_width": null,
       "object_fit": null,
       "object_position": null,
       "order": null,
       "overflow": null,
       "overflow_x": null,
       "overflow_y": null,
       "padding": null,
       "right": null,
       "top": null,
       "visibility": null,
       "width": null
      }
     },
     "f36215fa7f4c4d8c9948eaf9274c01e6": {
      "model_module": "@jupyter-widgets/controls",
      "model_module_version": "1.5.0",
      "model_name": "FloatProgressModel",
      "state": {
       "_dom_classes": [],
       "_model_module": "@jupyter-widgets/controls",
       "_model_module_version": "1.5.0",
       "_model_name": "FloatProgressModel",
       "_view_count": null,
       "_view_module": "@jupyter-widgets/controls",
       "_view_module_version": "1.5.0",
       "_view_name": "ProgressView",
       "bar_style": "success",
       "description": "",
       "description_tooltip": null,
       "layout": "IPY_MODEL_50484bf43c124defa149bb1c827c96ff",
       "max": 1.0,
       "min": 0.0,
       "orientation": "horizontal",
       "style": "IPY_MODEL_78f5ac2030ec45b9b729794e63742af6",
       "value": 1.0
      }
     },
     "fbef70d7a6234bcbb8213e5efb17785c": {
      "model_module": "@jupyter-widgets/controls",
      "model_module_version": "1.5.0",
      "model_name": "HTMLModel",
      "state": {
       "_dom_classes": [],
       "_model_module": "@jupyter-widgets/controls",
       "_model_module_version": "1.5.0",
       "_model_name": "HTMLModel",
       "_view_count": null,
       "_view_module": "@jupyter-widgets/controls",
       "_view_module_version": "1.5.0",
       "_view_name": "HTMLView",
       "description": "",
       "description_tooltip": null,
       "layout": "IPY_MODEL_91252630732048af9f068fdb13a73d28",
       "placeholder": "​",
       "style": "IPY_MODEL_379448ff37f4447a965cfcfc6cd575cb",
       "value": " 24459/25250 [00:02&lt;00:00, 10510.28 examples/s]"
      }
     }
    },
    "version_major": 2,
    "version_minor": 0
   }
  }
 },
 "nbformat": 4,
 "nbformat_minor": 5
}
